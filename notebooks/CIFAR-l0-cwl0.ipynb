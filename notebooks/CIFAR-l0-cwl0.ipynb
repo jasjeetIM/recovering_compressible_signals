{
 "cells": [
  {
   "cell_type": "code",
   "execution_count": 1,
   "metadata": {},
   "outputs": [
    {
     "name": "stderr",
     "output_type": "stream",
     "text": [
      "/usr/local/lib/python2.7/dist-packages/h5py/__init__.py:36: FutureWarning: Conversion of the second argument of issubdtype from `float` to `np.floating` is deprecated. In future, it will be treated as `np.float64 == np.dtype(float).type`.\n",
      "  from ._conv import register_converters as _register_converters\n",
      "Using TensorFlow backend.\n"
     ]
    }
   ],
   "source": [
    "%load_ext autoreload\n",
    "%autoreload 2\n",
    "from __future__ import division\n",
    "from __future__ import print_function\n",
    "\n",
    "import sys, os, gc, math\n",
    "import tensorflow as tf\n",
    "import numpy as np\n",
    "from sklearn import linear_model\n",
    "from sklearn.metrics import roc_curve, auc\n",
    "from scipy.fftpack import dct,idct\n",
    "\n",
    "\n",
    "sys.path.append('../')\n",
    "os.environ[\"CUDA_VISIBLE_DEVICES\"] = \"1\"\n",
    "\n",
    "from models.neural_network import NeuralNetwork\n",
    "from models.cnn import CNN\n",
    "from models.util import *\n",
    "\n",
    "\n",
    "#Seed used for choosing classes, training points, and test points.\n",
    "SEED = 14\n",
    "#SEED=11"
   ]
  },
  {
   "cell_type": "code",
   "execution_count": 2,
   "metadata": {},
   "outputs": [],
   "source": [
    "#Define params of model\n",
    "input_shape = (32,32,3)\n",
    "num_classes = 10"
   ]
  },
  {
   "cell_type": "code",
   "execution_count": 3,
   "metadata": {
    "scrolled": false
   },
   "outputs": [
    {
     "name": "stderr",
     "output_type": "stream",
     "text": [
      "../models/neural_network.py:172: ComplexWarning: Casting complex values to real discards the imaginary part\n",
      "  x_rec[i,:,:,0]= f_recon_r\n",
      "../models/neural_network.py:173: ComplexWarning: Casting complex values to real discards the imaginary part\n",
      "  x_rec[i,:,:,1]= f_recon_g\n",
      "../models/neural_network.py:174: ComplexWarning: Casting complex values to real discards the imaginary part\n",
      "  x_rec[i,:,:,2]= f_recon_b\n"
     ]
    },
    {
     "name": "stdout",
     "output_type": "stream",
     "text": [
      "WARNING:tensorflow:From ../models/neural_network.py:375: softmax_cross_entropy_with_logits (from tensorflow.python.ops.nn_ops) is deprecated and will be removed in a future version.\n",
      "Instructions for updating:\n",
      "\n",
      "Future major versions of TensorFlow will allow gradients to flow\n",
      "into the labels input on backprop by default.\n",
      "\n",
      "See @{tf.nn.softmax_cross_entropy_with_logits_v2}.\n",
      "\n",
      "Learning rate:  0.001\n",
      "Total Model Params: 273066\n",
      "Loaded model from disk\n"
     ]
    }
   ],
   "source": [
    "#%%capture one\n",
    "#Load model from disk\n",
    "model_name = 'cifar10-resnet'\n",
    "model_save_path = '../trained_models/' + model_name + '-model.json'\n",
    "weights_save_path = '../trained_models/' + model_name + 'weights'\n",
    "model = CNN(model_name=model_name, dataset='cifar10', transform='dct-3d',seed=SEED)\n",
    "print ('Total Model Params: %d' % model.num_params)\n",
    "model.load_model(model_save_path, weights_save_path) \n",
    "#epochs = 200\n",
    "#model.train(epochs=epochs)\n",
    "#model.save_model(model_save_path, weights_save_path)    "
   ]
  },
  {
   "cell_type": "code",
   "execution_count": 4,
   "metadata": {},
   "outputs": [
    {
     "name": "stdout",
     "output_type": "stream",
     "text": [
      "10000/10000 [==============================] - 3s 316us/step\n",
      "Model Accuracy: 0.83780\n"
     ]
    }
   ],
   "source": [
    "#Model Accuracy\n",
    "print ('Model Accuracy: %.5f' % (model.model.evaluate(model.val_data, model.val_labels)[1]))"
   ]
  },
  {
   "cell_type": "code",
   "execution_count": 5,
   "metadata": {},
   "outputs": [],
   "source": [
    "%%capture two\n",
    "#Get training samples\n",
    "num_train_samples = 1000\n",
    "data_indices = model.gen_rand_indices(low=int(model.train_data.shape[0]/2), high=model.train_data.shape[0], seed=SEED, num_samples=num_train_samples)\n",
    "train_data = model.train_data[data_indices]\n",
    "train_data_labels = model.train_labels[data_indices]\n",
    "train_data_labels_int = np.argmax(train_data_labels, axis=1)"
   ]
  },
  {
   "cell_type": "markdown",
   "metadata": {},
   "source": [
    "**GREYBOX ATTACKS**"
   ]
  },
  {
   "cell_type": "code",
   "execution_count": 6,
   "metadata": {},
   "outputs": [],
   "source": [
    "%%capture three\n",
    "num_test_samples_per_class = 100\n",
    "num_test_samples = num_classes*num_test_samples_per_class\n",
    "\n",
    "#Generate test points\n",
    "test_indices = model.gen_rand_indices_all_classes(y=model.test_labels, seed=SEED, num_samples=num_test_samples_per_class)"
   ]
  },
  {
   "cell_type": "code",
   "execution_count": 7,
   "metadata": {},
   "outputs": [],
   "source": [
    "targets = model.test_labels[test_indices]"
   ]
  },
  {
   "cell_type": "code",
   "execution_count": 8,
   "metadata": {},
   "outputs": [],
   "source": [
    "for t in targets:\n",
    "    c = np.where(t==1)[0][0]\n",
    "    nc = (c + 1) %10\n",
    "    t[c] = 0\n",
    "    t[nc] = 1\n"
   ]
  },
  {
   "cell_type": "code",
   "execution_count": null,
   "metadata": {
    "scrolled": false
   },
   "outputs": [
    {
     "name": "stdout",
     "output_type": "stream",
     "text": [
      "WARNING:tensorflow:From ../cleverhans/attacks.py:200: calling reduce_max (from tensorflow.python.ops.math_ops) with keep_dims is deprecated and will be removed in a future version.\n",
      "Instructions for updating:\n",
      "keep_dims is deprecated, use keepdims instead\n"
     ]
    }
   ],
   "source": [
    "%%capture four\n",
    "import time\n",
    "#Get Regular, JSMA, DF, and CW test points\n",
    "reg_data = model.test_data[test_indices]\n",
    "start_time = time.time()\n",
    "#jsma_data = model.generate_perturbed_data(model.test_data[test_indices], model.test_labels[test_indices], seed=SEED, perturbation='JSMA', iterations=100)\n",
    "print(\"--- JSMA: %s seconds ---\" % (time.time() - start_time))\n",
    "start_time = time.time()\n",
    "cwl0_data = model.generate_perturbed_data(model.test_data[test_indices] ,seed=SEED, perturbation='CW-l0')\n",
    "print(\"--- CW: %s seconds ---\" % (time.time() - start_time))"
   ]
  },
  {
   "cell_type": "code",
   "execution_count": 5,
   "metadata": {},
   "outputs": [],
   "source": [
    "#%%capture five\n",
    "reg_data = np.load('data/reg_data_cifar10_l0.npy')\n",
    "jsma_data = np.load('data/jsma_data_cifar10_l0.npy')\n",
    "cwl0_data = np.load('data/cwl0_data_cifar10_l0.npy')\n"
   ]
  },
  {
   "cell_type": "code",
   "execution_count": null,
   "metadata": {},
   "outputs": [],
   "source": [
    "%%capture five\n",
    "#np.save('data/reg_data_cifar10_l0', reg_data)\n",
    "#np.save('data/jsma_data_cifar10_l0', jsma_data)\n",
    "np.save('data/cwl0_data_cifar10_l0_v2', cwl0_data)"
   ]
  },
  {
   "cell_type": "code",
   "execution_count": null,
   "metadata": {},
   "outputs": [],
   "source": [
    "%%capture six\n",
    "#Reset tf.graph() as Cleverhans modifies the graph\n",
    "tf.reset_default_graph()\n",
    "\n",
    "#Reload the model and weights\n",
    "model = CNN(model_name=model_name, dataset='cifar10',transform='dct-3d', seed=SEED)\n",
    "model.load_model(model_save_path, weights_save_path)    "
   ]
  },
  {
   "cell_type": "code",
   "execution_count": 9,
   "metadata": {},
   "outputs": [
    {
     "name": "stdout",
     "output_type": "stream",
     "text": [
      "1000/1000 [==============================] - 0s 173us/step\n",
      "Model Accuracy REG: 0.87800\n",
      "1000/1000 [==============================] - 0s 172us/step\n",
      "Model Accuracy CW-l0: 0.29300\n",
      "1000/1000 [==============================] - 0s 172us/step\n",
      "Model Accuracy JSMA: 0.01500\n"
     ]
    }
   ],
   "source": [
    "print ('Model Accuracy REG: %.5f' % (model.model.evaluate(reg_data,model.test_labels[test_indices])[1]))\n",
    "print ('Model Accuracy CW-l0: %.5f' % (model.model.evaluate(cwl0_data,model.test_labels[test_indices])[1]))\n",
    "print ('Model Accuracy JSMA: %.5f' % (model.model.evaluate(jsma_data,model.test_labels[test_indices])[1]))"
   ]
  },
  {
   "cell_type": "code",
   "execution_count": null,
   "metadata": {},
   "outputs": [],
   "source": [
    "#Lets visualize training data\n",
    "x_vis = np.random.choice(range(0,num_train_samples), 10)\n",
    "print ('Training Data: ')\n",
    "visualize(model.val_data[x_vis].reshape(-1,*input_shape), 10, '../figures/train-cifar10_l0')"
   ]
  },
  {
   "cell_type": "code",
   "execution_count": null,
   "metadata": {},
   "outputs": [],
   "source": [
    "#Lets visualize samples from each attack\n",
    "x_vis = np.random.choice(range(0,num_test_samples), 10)\n",
    "print ('Regular: ')\n",
    "visualize(reg_data[x_vis].reshape(-1,*input_shape), 10, '../figures/reg-cifar10_l0')\n",
    "print ('CW-l0: ')\n",
    "visualize(cwl0_data[x_vis].reshape(-1,*input_shape), 10, '../figures/cwl0-cifar10_l0')\n",
    "print ('JSMA: ')\n",
    "visualize(jsma_data[x_vis].reshape(-1,*input_shape), 10, '../figures/jsma-cifar10_l0')"
   ]
  },
  {
   "cell_type": "code",
   "execution_count": 10,
   "metadata": {},
   "outputs": [],
   "source": [
    "%%capture seven\n",
    "#Get predictions\n",
    "reg_preds = model.model.predict(reg_data.reshape(-1,*input_shape))\n",
    "cwl0_preds = model.model.predict(cwl0_data.reshape(-1,*input_shape))\n",
    "jsma_preds = model.model.predict(jsma_data.reshape(-1,*input_shape))\n",
    "\n",
    "#Convert preds to labels\n",
    "reg_labels = preds_to_labels(reg_preds)\n",
    "cwl0_labels = preds_to_labels(cwl0_preds)\n",
    "jsma_labels = preds_to_labels(jsma_preds)\n",
    "\n",
    "#Select Adversarial Points (i.e. points that lead to misclassification)\n",
    "true_preds = np.argmax(model.test_labels[test_indices], axis=1)\n",
    "\n",
    "#Check which points are actually adversarial and select those\n",
    "cwl0_idx = np.where(np.argmax(cwl0_preds, axis=1) != true_preds)[0]\n",
    "jsma_idx = np.where(np.argmax(jsma_preds, axis=1) != true_preds)[0]\n",
    "\n",
    "\n",
    "#Filter data points to be used for similarity\n",
    "cwl0_data_fil = cwl0_data[cwl0_idx]\n",
    "jsma_data_fil = jsma_data[jsma_idx]\n",
    "\n",
    "\n",
    "#Filter labels to be used\n",
    "cwl0_labels_fil = cwl0_labels[cwl0_idx]\n",
    "jsma_labels_fil = jsma_labels[jsma_idx]"
   ]
  },
  {
   "cell_type": "code",
   "execution_count": 11,
   "metadata": {},
   "outputs": [
    {
     "name": "stdout",
     "output_type": "stream",
     "text": [
      "CW-l0: 1279.00000\n",
      "JSMA: 35.00000\n"
     ]
    }
   ],
   "source": [
    "#Get l-0 distortion \n",
    "print ('CW-l0: %.5f' % (avg_l0_dist(reg_data[cwl0_idx], cwl0_data_fil)))\n",
    "print ('JSMA: %.5f' % (avg_l0_dist(reg_data[jsma_idx], jsma_data_fil)))"
   ]
  },
  {
   "cell_type": "code",
   "execution_count": 12,
   "metadata": {},
   "outputs": [],
   "source": [
    "n = 32\n",
    "k=75"
   ]
  },
  {
   "cell_type": "code",
   "execution_count": 13,
   "metadata": {},
   "outputs": [
    {
     "name": "stderr",
     "output_type": "stream",
     "text": [
      "/usr/local/lib/python2.7/dist-packages/ipykernel_launcher.py:13: ComplexWarning: Casting complex values to real discards the imaginary part\n",
      "  del sys.path[0]\n",
      "/usr/local/lib/python2.7/dist-packages/ipykernel_launcher.py:14: ComplexWarning: Casting complex values to real discards the imaginary part\n",
      "  \n",
      "/usr/local/lib/python2.7/dist-packages/ipykernel_launcher.py:15: ComplexWarning: Casting complex values to real discards the imaginary part\n",
      "  from ipykernel import kernelapp as app\n"
     ]
    }
   ],
   "source": [
    "clean_reg = np.zeros(reg_data.shape)\n",
    "for i in range(num_test_samples):\n",
    "    f_x_r = dct(reg_data[i,:,:,0].flatten(),norm='ortho').reshape(int(n),int(n))\n",
    "    f_x_g = dct(reg_data[i,:,:,1].flatten(),norm='ortho').reshape(int(n),int(n))\n",
    "    f_x_b = dct(reg_data[i,:,:,2].flatten(),norm='ortho').reshape(int(n),int(n))\n",
    "    top_k_r = get_top_k(f_x_r,k=k)\n",
    "    top_k_g = get_top_k(f_x_g,k=k)\n",
    "    top_k_b = get_top_k(f_x_b,k=k)\n",
    "    f_recon_r = idct(top_k_r.flatten(),norm='ortho').reshape(int(n),int(n))\n",
    "    f_recon_g = idct(top_k_g.flatten(),norm='ortho').reshape(int(n),int(n))\n",
    "    f_recon_b = idct(top_k_b.flatten(),norm='ortho').reshape(int(n),int(n))\n",
    "  \n",
    "    clean_reg[i,:,:,0]= f_recon_r\n",
    "    clean_reg[i,:,:,1]= f_recon_g\n",
    "    clean_reg[i,:,:,2]= f_recon_b"
   ]
  },
  {
   "cell_type": "code",
   "execution_count": null,
   "metadata": {},
   "outputs": [],
   "source": [
    "avg=0.0\n",
    "ratios = []\n",
    "for i,j in enumerate(cwl0_idx):\n",
    "    r = np.linalg.norm(reg_data[j]-cwl0_data_fil[i])/np.linalg.norm(reg_data[j])\n",
    "    ratios.append(r)\n",
    "    avg+=r\n",
    "print(avg/1000, max(ratios), min(ratios))"
   ]
  },
  {
   "cell_type": "code",
   "execution_count": null,
   "metadata": {},
   "outputs": [],
   "source": [
    "avg=0.0\n",
    "ratios = []\n",
    "for i,j in enumerate(jsma_idx):\n",
    "    r = np.linalg.norm(reg_data[j]-jsma_data_fil[i])/np.linalg.norm(reg_data[j])\n",
    "    ratios.append(r)\n",
    "    avg+=r\n",
    "print(avg/1000, max(ratios), min(ratios))"
   ]
  },
  {
   "cell_type": "code",
   "execution_count": 17,
   "metadata": {},
   "outputs": [],
   "source": [
    "%%capture eleven\n",
    "#Reconstruct CW-l0\n",
    "clean_cwl0_iht = np.zeros(cwl0_data.shape)\n",
    "for i in range(num_test_samples):\n",
    "    x_adv_r = cwl0_data[i,:,:,0].flatten()\n",
    "    x_adv_g = cwl0_data[i,:,:,1].flatten()\n",
    "    x_adv_b = cwl0_data[i,:,:,2].flatten()\n",
    "    t_r = len(np.where(np.abs(x_adv_r - reg_data[i,:,:,0].flatten()) > 0.0001)[0])\n",
    "    t_g = len(np.where(np.abs(x_adv_g - reg_data[i,:,:,1].flatten()) > 0.0001)[0])\n",
    "    t_b = len(np.where(np.abs(x_adv_b - reg_data[i,:,:,2].flatten()) > 0.0001)[0])\n",
    "    x_hat_r,_ = iht(x_adv_r,35, T=100,k=75)\n",
    "    x_hat_g,_ = iht(x_adv_g,35, T=100,k=75)\n",
    "    x_hat_b,_ = iht(x_adv_b,35, T=100,k=75)\n",
    "    clean_cwl0_iht[i,:,:,0]= idct(x_hat_r.flatten(),norm='ortho').reshape(n,n)\n",
    "    clean_cwl0_iht[i,:,:,1]= idct(x_hat_g.flatten(),norm='ortho').reshape(n,n)\n",
    "    clean_cwl0_iht[i,:,:,2]= idct(x_hat_b.flatten(),norm='ortho').reshape(n,n)"
   ]
  },
  {
   "cell_type": "code",
   "execution_count": null,
   "metadata": {},
   "outputs": [],
   "source": [
    "%%capture twelve\n",
    "#Reconstruct CW-l0\n",
    "clean_jsma_iht = np.zeros(jsma_data.shape)\n",
    "for i in range(num_test_samples):\n",
    "    x_adv_r = jsma_data[i,:,:,0].flatten()\n",
    "    x_adv_g = jsma_data[i,:,:,1].flatten()\n",
    "    x_adv_b = jsma_data[i,:,:,2].flatten()\n",
    "    t_r = len(np.where(np.abs(x_adv_r - reg_data[i,:,:,0].flatten()) > 0.0001)[0])\n",
    "    t_g = len(np.where(np.abs(x_adv_g - reg_data[i,:,:,1].flatten()) > 0.0001)[0])\n",
    "    t_b = len(np.where(np.abs(x_adv_b - reg_data[i,:,:,2].flatten()) > 0.0001)[0])\n",
    "    print(t_r,t_g,t_b)\n",
    "    x_hat_r,_ = iht(x_adv_r,t_r, T=100,k=75)\n",
    "    x_hat_g,_ = iht(x_adv_g,t_g, T=100,k=75)\n",
    "    x_hat_b,_ = iht(x_adv_b,t_b, T=100,k=75)\n",
    "    clean_jsma_iht[i,:,:,0]= idct(x_hat_r.flatten(),norm='ortho').reshape(n,n)\n",
    "    clean_jsma_iht[i,:,:,1]= idct(x_hat_g.flatten(),norm='ortho').reshape(n,n)\n",
    "    clean_jsma_iht[i,:,:,2]= idct(x_hat_b.flatten(),norm='ortho').reshape(n,n)"
   ]
  },
  {
   "cell_type": "code",
   "execution_count": 18,
   "metadata": {},
   "outputs": [],
   "source": [
    "np.save('data/clean_cifar10_cwl0_l0-iht', clean_cwl0_iht)"
   ]
  },
  {
   "cell_type": "code",
   "execution_count": null,
   "metadata": {},
   "outputs": [],
   "source": [
    "%%capture thirteen\n",
    "np.save('data/clean_cifar10_cwl0_l0-iht', clean_cwl0_iht)\n",
    "np.save('data/clean_cifar10_jsma_l0-iht', clean_jsma_iht)"
   ]
  },
  {
   "cell_type": "code",
   "execution_count": null,
   "metadata": {},
   "outputs": [],
   "source": [
    "visualize(clean_reg[x_vis].reshape(-1,*input_shape), 10, '../figures/reg-test-cifar10_l0')\n",
    "visualize(clean_cwl0_iht[x_vis].reshape(-1,*input_shape), 10, '../figures/cwl0-clean-cifar10_l0-iht')\n",
    "visualize(clean_jsma_iht[x_vis].reshape(-1,*input_shape), 10, '../figures/jsma-clean-cifar10_l0-iht')"
   ]
  },
  {
   "cell_type": "code",
   "execution_count": 19,
   "metadata": {},
   "outputs": [
    {
     "name": "stdout",
     "output_type": "stream",
     "text": [
      "1000/1000 [==============================] - 0s 192us/step\n",
      "Model Accuracy Reconstructed CW-l0: 0.54800\n"
     ]
    }
   ],
   "source": [
    "print ('Model Accuracy Reconstructed CW-l0: %.5f' % (model.model.evaluate(clean_cwl0_iht,model.test_labels[test_indices])[1]))\n",
    "#print ('Model Accuracy Reconstructed JSMA: %.5f' % (model.model.evaluate(clean_jsma_iht,model.test_labels[test_indices])[1]))"
   ]
  },
  {
   "cell_type": "code",
   "execution_count": null,
   "metadata": {},
   "outputs": [],
   "source": [
    "D = get_matrix(n*n)\n",
    "A = np.concatenate((D.T,np.identity(n*n)),axis=1)"
   ]
  },
  {
   "cell_type": "code",
   "execution_count": null,
   "metadata": {},
   "outputs": [],
   "source": [
    "#%%capture thirteen\n",
    "#Reconstruct CW-l0\n",
    "clean_cwl0_socp = np.zeros(cwl0_data.shape)\n",
    "for i in range(num_test_samples):\n",
    "    x_adv_r = cwl0_data[i,:,:,0].flatten()\n",
    "    x_adv_g = cwl0_data[i,:,:,1].flatten()\n",
    "    x_adv_b = cwl0_data[i,:,:,2].flatten()\n",
    "    \n",
    "    x_hat_orig_r = dct(reg_data[i,:,:,0].flatten(),norm='ortho')\n",
    "    x_hat_orig_g = dct(reg_data[i,:,:,1].flatten(),norm='ortho')\n",
    "    x_hat_orig_b = dct(reg_data[i,:,:,2].flatten(),norm='ortho')\n",
    "\n",
    "  \n",
    "    x_top_r,x_bot_r = get_top_bot_k_vec(x_hat_orig_r,k=75)\n",
    "    x_top_g,x_bot_g = get_top_bot_k_vec(x_hat_orig_g,k=75)\n",
    "    x_top_b,x_bot_b = get_top_bot_k_vec(x_hat_orig_b,k=75)\n",
    "\n",
    "    eta_r = np.linalg.norm(x_bot_r)/2.0\n",
    "    eta_g = np.linalg.norm(x_bot_g)/2.0\n",
    "    eta_b = np.linalg.norm(x_bot_b)/2.0\n",
    "\n",
    "    print(eta_r,eta_g,eta_b)\n",
    "    print(np.linalg.norm(x_adv_r - reg_data[i,:,:,0].flatten()),np.linalg.norm(x_adv_g - reg_data[i,:,:,1].flatten()),np.linalg.norm(x_adv_b - reg_data[i,:,:,2].flatten()) )\n",
    "\n",
    "    x_hat_r = socp(x_adv_r,A, n=n*n*2,eta=eta_r)[:n*n]\n",
    "    x_hat_g = socp(x_adv_g,A, n=n*n*2,eta=eta_g)[:n*n]\n",
    "    x_hat_b = socp(x_adv_b,A, n=n*n*2,eta=eta_b)[:n*n]\n",
    "    x_hat_top_r,_ = get_top_bot_k_vec(x_hat_r,k=75)\n",
    "    x_hat_top_g,_ = get_top_bot_k_vec(x_hat_g,k=75)\n",
    "    x_hat_top_b,_ = get_top_bot_k_vec(x_hat_b,k=75)\n",
    "    clean_cwl0_socp[i,:,:,0]= idct(x_hat_top_r.flatten(),norm='ortho').reshape(n,n)\n",
    "    clean_cwl0_socp[i,:,:,1]= idct(x_hat_top_g.flatten(),norm='ortho').reshape(n,n)\n",
    "    clean_cwl0_socp[i,:,:,2]= idct(x_hat_top_b.flatten(),norm='ortho').reshape(n,n)"
   ]
  },
  {
   "cell_type": "code",
   "execution_count": null,
   "metadata": {},
   "outputs": [],
   "source": [
    "%%capture thirteen\n",
    "#Reconstruct CW-l0\n",
    "clean_jsma_socp = np.zeros(jsma_data.shape)\n",
    "for i in range(num_test_samples):\n",
    "    x_adv_r = jsma_data[i,:,:,0].flatten()\n",
    "    x_adv_g = jsma_data[i,:,:,1].flatten()\n",
    "    x_adv_b = jsma_data[i,:,:,2].flatten()\n",
    "    \n",
    "    x_hat_orig_r = dct(reg_data[i,:,:,0].flatten(),norm='ortho')\n",
    "    x_hat_orig_g = dct(reg_data[i,:,:,1].flatten(),norm='ortho')\n",
    "    x_hat_orig_b = dct(reg_data[i,:,:,2].flatten(),norm='ortho')\n",
    "\n",
    "  \n",
    "    x_top_r,x_bot_r = get_top_bot_k_vec(x_hat_orig_r,k=75)\n",
    "    x_top_g,x_bot_g = get_top_bot_k_vec(x_hat_orig_g,k=75)\n",
    "    x_top_b,x_bot_b = get_top_bot_k_vec(x_hat_orig_b,k=75)\n",
    "\n",
    "    eta_r = np.linalg.norm(x_bot_r)/2.0\n",
    "    eta_g = np.linalg.norm(x_bot_g)/2.0\n",
    "    eta_b = np.linalg.norm(x_bot_b)/2.0\n",
    "\n",
    "    x_hat_r = socp(x_adv_r,A, n=n*n*2,eta=eta_r)[:n*n]\n",
    "    x_hat_g = socp(x_adv_g,A, n=n*n*2,eta=eta_g)[:n*n]\n",
    "    x_hat_b = socp(x_adv_b,A, n=n*n*2,eta=eta_b)[:n*n]\n",
    "    x_hat_top_r,_ = get_top_bot_k_vec(x_hat_r,k=75)\n",
    "    x_hat_top_g,_ = get_top_bot_k_vec(x_hat_g,k=75)\n",
    "    x_hat_top_b,_ = get_top_bot_k_vec(x_hat_b,k=75)\n",
    "    clean_jsma_socp[i,:,:,0]= idct(x_hat_top_r.flatten(),norm='ortho').reshape(n,n)\n",
    "    clean_jsma_socp[i,:,:,1]= idct(x_hat_top_g.flatten(),norm='ortho').reshape(n,n)\n",
    "    clean_jsma_socp[i,:,:,2]= idct(x_hat_top_b.flatten(),norm='ortho').reshape(n,n)"
   ]
  },
  {
   "cell_type": "code",
   "execution_count": null,
   "metadata": {},
   "outputs": [],
   "source": []
  },
  {
   "cell_type": "code",
   "execution_count": null,
   "metadata": {},
   "outputs": [],
   "source": []
  },
  {
   "cell_type": "code",
   "execution_count": null,
   "metadata": {},
   "outputs": [],
   "source": []
  }
 ],
 "metadata": {
  "kernelspec": {
   "display_name": "Python 2",
   "language": "python",
   "name": "python2"
  },
  "language_info": {
   "codemirror_mode": {
    "name": "ipython",
    "version": 2
   },
   "file_extension": ".py",
   "mimetype": "text/x-python",
   "name": "python",
   "nbconvert_exporter": "python",
   "pygments_lexer": "ipython2",
   "version": "2.7.12"
  }
 },
 "nbformat": 4,
 "nbformat_minor": 2
}
