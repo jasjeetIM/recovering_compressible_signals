{
 "cells": [
  {
   "cell_type": "markdown",
   "metadata": {},
   "source": [
    "# BP Experiments to verify theory for L-2 norm - MNIST"
   ]
  },
  {
   "cell_type": "code",
   "execution_count": 1,
   "metadata": {},
   "outputs": [
    {
     "name": "stderr",
     "output_type": "stream",
     "text": [
      "/usr/local/lib/python2.7/dist-packages/h5py/__init__.py:36: FutureWarning: Conversion of the second argument of issubdtype from `float` to `np.floating` is deprecated. In future, it will be treated as `np.float64 == np.dtype(float).type`.\n",
      "  from ._conv import register_converters as _register_converters\n",
      "Using TensorFlow backend.\n"
     ]
    }
   ],
   "source": [
    "%load_ext autoreload\n",
    "%autoreload 2\n",
    "from __future__ import division\n",
    "from __future__ import print_function\n",
    "\n",
    "import sys, os, gc, math\n",
    "import numpy as np\n",
    "from scipy.fftpack import dct,idct\n",
    "from keras.datasets import mnist, fashion_mnist\n",
    "from PIL import Image\n",
    "\n",
    "\n",
    "sys.path.append('../')\n",
    "\n",
    "from models.util import *\n",
    "\n",
    "\n",
    "#Seed used for choosing classes, training points, and test points.\n",
    "#SEED = 14\n",
    "SEED=11"
   ]
  },
  {
   "cell_type": "code",
   "execution_count": 2,
   "metadata": {},
   "outputs": [],
   "source": [
    "num_samples = 500\n",
    "sqrt_n = 28\n",
    "input_shape=(sqrt_n,sqrt_n,1)\n",
    "n = sqrt_n*sqrt_n\n",
    "k = 40\n",
    "c=2.0"
   ]
  },
  {
   "cell_type": "code",
   "execution_count": 3,
   "metadata": {
    "scrolled": true
   },
   "outputs": [],
   "source": [
    "#Load MNIST data\n",
    "(X_train, _), (X_test, _) = mnist.load_data()\n",
    "X_train = X_train.reshape(-1, 28, 28, 1)\n",
    "X_test = X_test.reshape(-1, 28, 28, 1)\n",
    "\n",
    "m_data = np.concatenate((X_train,X_test))"
   ]
  },
  {
   "cell_type": "code",
   "execution_count": 4,
   "metadata": {},
   "outputs": [],
   "source": [
    "#Normalize the data\n",
    "m_data = m_data/255.0"
   ]
  },
  {
   "cell_type": "code",
   "execution_count": 5,
   "metadata": {},
   "outputs": [],
   "source": [
    "#Check MNIST results for 1000 random images - BP\n",
    "subset_idx = np.random.choice(np.arange(m_data.shape[0]),num_samples)\n",
    "m_data_sub_bp = m_data[subset_idx]\n",
    "m_data_y_bp = np.zeros((num_samples,sqrt_n,sqrt_n))\n",
    "for i in range(num_samples):\n",
    "    #first sample an element from the data\n",
    "    x = m_data_sub_bp[i,:,:].flatten()\n",
    "    x_hat = dct(x,norm='ortho')\n",
    "    x_k = idct(get_topk_vec(x_hat,k=k),norm='ortho')\n",
    "    e = np.random.uniform(size=n)\n",
    "    y = x_k + e\n",
    "    m_data_y_bp[i,:,:] = y.reshape((sqrt_n,sqrt_n))  \n",
    "    m_data_sub_bp[i,:,:,0] = x_k.reshape((sqrt_n,sqrt_n))"
   ]
  },
  {
   "cell_type": "markdown",
   "metadata": {},
   "source": [
    "# Get \\delta_p and \\Delta_p"
   ]
  },
  {
   "cell_type": "code",
   "execution_count": 6,
   "metadata": {},
   "outputs": [],
   "source": [
    "#Form the matrix F\n",
    "F = get_matrix(n,tf='dct')"
   ]
  },
  {
   "cell_type": "code",
   "execution_count": 7,
   "metadata": {},
   "outputs": [],
   "source": [
    "%%capture three\n",
    "#BP MNIST\n",
    "errors_l2_bp = np.zeros(m_data_y_bp.shape[0])\n",
    "errors_l1_bp = np.zeros(m_data_y_bp.shape[0])\n",
    "eta_bp = np.zeros(m_data_y_bp.shape[0])\n",
    "diff_l2_bp = np.zeros(m_data_y_bp.shape[0])\n",
    "diff_l1_bp = np.zeros(m_data_y_bp.shape[0])\n",
    "\n",
    "for i in range(num_samples):\n",
    "    y = m_data_y_bp[i,:,:].flatten()\n",
    "    x = m_data_sub_bp[i,:,:].flatten()\n",
    "    \n",
    "    #Get actual top k and bottom k\n",
    "    x_hat_top_k = dct(x, norm='ortho')\n",
    "    \n",
    "    e = y - x \n",
    "    eta_bp[i] = np.linalg.norm(e)\n",
    "    eta = eta_bp[i]\n",
    "\n",
    "    x_hat_approx = socp(y,F.T,n=n,eta=eta)\n",
    "    \n",
    "    \n",
    "    #Note the errors\n",
    "    errors_l2_bp[i] = np.linalg.norm(x_hat_top_k.flatten()- x_hat_approx.flatten())\n",
    "    errors_l1_bp[i] = np.linalg.norm(x_hat_top_k.flatten()- x_hat_approx.flatten(), ord=1)\n",
    "\n",
    "\n",
    "    #Get the multiplicative constant\n",
    "    c_l2 = 6*eta_bp[i]\n",
    "    c_l1 = np.sqrt(k)*4*eta_bp[i]\n",
    "    \n",
    "    \n",
    "    #Calculate the difference from the upper bound\n",
    "    diff_l2_bp[i] = c_l2 - errors_l2_bp[i] \n",
    "    diff_l1_bp[i] = c_l1 - errors_l1_bp[i]"
   ]
  },
  {
   "cell_type": "code",
   "execution_count": 8,
   "metadata": {},
   "outputs": [
    {
     "name": "stdout",
     "output_type": "stream",
     "text": [
      "8.208630980438857 88.80668802848423 43.875594119381525 365.1769072086534\n"
     ]
    }
   ],
   "source": [
    "print(np.mean(errors_l2_bp), \n",
    "      np.mean(diff_l2_bp), \n",
    "      np.mean(errors_l1_bp), \n",
    "      np.mean(diff_l1_bp))"
   ]
  },
  {
   "cell_type": "code",
   "execution_count": 9,
   "metadata": {},
   "outputs": [],
   "source": [
    "e_norms = np.zeros(m_data_y_bp.shape)\n",
    "for i in range(num_samples):\n",
    "    y = m_data_y_bp[i,:,:].flatten()\n",
    "    x = m_data_sub_bp[i,:,:].flatten()\n",
    "    e_norms[i] = np.linalg.norm(y - x)"
   ]
  },
  {
   "cell_type": "code",
   "execution_count": 10,
   "metadata": {},
   "outputs": [
    {
     "data": {
      "text/plain": [
       "16.152730445789324"
      ]
     },
     "execution_count": 10,
     "metadata": {},
     "output_type": "execute_result"
    }
   ],
   "source": [
    "np.mean(e_norms)"
   ]
  },
  {
   "cell_type": "code",
   "execution_count": 11,
   "metadata": {},
   "outputs": [],
   "source": [
    "mnist_tup_bp = (m_data_y_bp, m_data_sub_bp, errors_l2_bp, errors_l1_bp, diff_l2_bp, diff_l1_bp )\n",
    "\n",
    "import pickle\n",
    "with open('data/mnist_theory_socp_l2.pickle', 'wb') as f:\n",
    "    pickle.dump(mnist_tup_bp, f)\n"
   ]
  }
 ],
 "metadata": {
  "kernelspec": {
   "display_name": "Python 2",
   "language": "python",
   "name": "python2"
  },
  "language_info": {
   "codemirror_mode": {
    "name": "ipython",
    "version": 2
   },
   "file_extension": ".py",
   "mimetype": "text/x-python",
   "name": "python",
   "nbconvert_exporter": "python",
   "pygments_lexer": "ipython2",
   "version": "2.7.12"
  }
 },
 "nbformat": 4,
 "nbformat_minor": 2
}
