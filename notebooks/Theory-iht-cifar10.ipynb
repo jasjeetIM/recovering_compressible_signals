{
 "cells": [
  {
   "cell_type": "markdown",
   "metadata": {},
   "source": [
    "# IHT Experiments to verify theory for L-0 Norm - CIFAR-10"
   ]
  },
  {
   "cell_type": "code",
   "execution_count": 1,
   "metadata": {},
   "outputs": [
    {
     "name": "stderr",
     "output_type": "stream",
     "text": [
      "/usr/local/lib/python2.7/dist-packages/h5py/__init__.py:36: FutureWarning: Conversion of the second argument of issubdtype from `float` to `np.floating` is deprecated. In future, it will be treated as `np.float64 == np.dtype(float).type`.\n",
      "  from ._conv import register_converters as _register_converters\n",
      "Using TensorFlow backend.\n"
     ]
    }
   ],
   "source": [
    "%load_ext autoreload\n",
    "%autoreload 2\n",
    "from __future__ import division\n",
    "from __future__ import print_function\n",
    "\n",
    "import sys, os, gc, math\n",
    "import numpy as np\n",
    "from scipy.fftpack import dct,idct\n",
    "from keras.datasets import mnist, fashion_mnist,cifar10\n",
    "from PIL import Image\n",
    "\n",
    "\n",
    "sys.path.append('../')\n",
    "\n",
    "from models.util import *\n",
    "\n",
    "\n",
    "#Seed used for choosing classes, training points, and test points.\n",
    "#SEED = 14\n",
    "SEED=11"
   ]
  },
  {
   "cell_type": "code",
   "execution_count": 2,
   "metadata": {},
   "outputs": [],
   "source": [
    "num_samples = 500\n",
    "sqrt_n = 32\n",
    "input_shape=(sqrt_n,sqrt_n,1)\n",
    "n = sqrt_n*sqrt_n\n",
    "k = 5\n",
    "c=2.0"
   ]
  },
  {
   "cell_type": "code",
   "execution_count": 3,
   "metadata": {
    "scrolled": true
   },
   "outputs": [],
   "source": [
    "#Load Cifar10 data\n",
    "(X_train, _), (X_test, _) = cifar10.load_data()\n",
    "m_data = np.concatenate((X_train,X_test))"
   ]
  },
  {
   "cell_type": "code",
   "execution_count": 4,
   "metadata": {},
   "outputs": [],
   "source": [
    "#Normalize the data\n",
    "m_data = m_data/255.0"
   ]
  },
  {
   "cell_type": "code",
   "execution_count": 5,
   "metadata": {},
   "outputs": [
    {
     "name": "stdout",
     "output_type": "stream",
     "text": [
      "Noise budget of 3\n"
     ]
    }
   ],
   "source": [
    "#Check Cifar10 results for 500 random images - BP\n",
    "t = int(float(n)/27.0/k/c)\n",
    "print('Noise budget of %d' % t)\n",
    "subset_idx = np.random.choice(np.arange(m_data.shape[0]),num_samples)\n",
    "m_data_sub_bp = m_data[subset_idx]\n",
    "m_data_y_bp = np.zeros((num_samples,sqrt_n,sqrt_n,3))\n",
    "t_values_bp = np.zeros((num_samples,3),dtype=np.int8)\n",
    "for i in range(num_samples):\n",
    "    #first sample an element from the data\n",
    "    x_r = m_data_sub_bp[i,:,:,0].flatten()\n",
    "    x_g = m_data_sub_bp[i,:,:,1].flatten()\n",
    "    x_b = m_data_sub_bp[i,:,:,2].flatten()\n",
    "\n",
    "    #Now sample a t - must be atleast 1\n",
    "    t_r = np.random.randint(1,t)\n",
    "    t_g = np.random.randint(1,t)\n",
    "    t_b = np.random.randint(1,t)\n",
    "    t_values_bp[i,0] = t_r\n",
    "    t_values_bp[i,1] = t_g\n",
    "    t_values_bp[i,2] = t_b\n",
    "\n",
    "\n",
    "    #Now samnple the an index set\n",
    "    s_r = np.random.choice(np.arange(n),t_r)\n",
    "    s_g = np.random.choice(np.arange(n),t_g)\n",
    "    s_b = np.random.choice(np.arange(n),t_b)\n",
    "\n",
    "\n",
    "    e = np.zeros((n,3))\n",
    "    #Now create the vector e\n",
    "    #pick a value for each element between 0 and 1 as the images are normalized\n",
    "    for j in range(t_r):\n",
    "        e[s_r[j],0] = np.random.uniform()\n",
    "    for j in range(t_g):\n",
    "        e[s_g[j],1] = np.random.uniform()\n",
    "    for j in range(t_b):\n",
    "        e[s_b[j],2] = np.random.uniform()\n",
    "    y = m_data_sub_bp[i,:,:,:] + e.reshape((sqrt_n,sqrt_n,3))\n",
    "    m_data_y_bp[i,:,:,:] = y"
   ]
  },
  {
   "cell_type": "markdown",
   "metadata": {},
   "source": [
    "# Get \\delta_p and \\Delta_p"
   ]
  },
  {
   "cell_type": "code",
   "execution_count": 6,
   "metadata": {},
   "outputs": [],
   "source": [
    "%%capture three\n",
    "errors_l2 = np.zeros(m_data_y_bp.shape[0])\n",
    "errors_inf = np.zeros(m_data_y_bp.shape[0])\n",
    "bot_l2 = np.zeros((m_data_y_bp.shape[0],3))\n",
    "diff_l2 = np.zeros(m_data_y_bp.shape[0])\n",
    "diff_inf = np.zeros(m_data_y_bp.shape[0])\n",
    "T_values = np.zeros((m_data_y_bp.shape[0],3))\n",
    "tau = np.zeros((m_data_y_bp.shape[0],3))\n",
    "\n",
    "for i in range(num_samples):\n",
    "    y_r = m_data_y_bp[i,:,:,0].flatten()\n",
    "    x_r = m_data_sub_bp[i,:,:,0].flatten()\n",
    "    \n",
    "    #Get actual top k and bottom k (we use the faster transform which may introduce some error)\n",
    "    x_hat_top_k_r, x_hat_bot_k_r =  get_top_bot_k_vec(dct(x_r, norm='ortho'),k=k)    \n",
    "    e_r = y_r - x_r \n",
    "    eta_r = bot_l2[i,0] = np.linalg.norm(x_hat_bot_k_r)\n",
    "    \n",
    "    a_r = np.sqrt(np.linalg.norm(x_hat_top_k_r)**2 + np.linalg.norm(eta_r)**2)\n",
    "    rho_r = np.sqrt(27)*np.sqrt(c*k*t_values_bp[i,0]/float(n))\n",
    "    \n",
    "    #We want to find a T such that rho^T a is very small - we use 1e-20 \n",
    "    T_r = int((np.log(1e-20) - np.log(a_r))/np.log(rho_r))\n",
    "    T_values[i,0] = T_r\n",
    "    \n",
    "    y_g = m_data_y_bp[i,:,:,1].flatten()\n",
    "    x_g = m_data_sub_bp[i,:,:,1].flatten()\n",
    "    \n",
    "    #Get actual top k and bottom k (we use the faster transform which may introduce some error)\n",
    "    x_hat_top_k_g, x_hat_bot_k_g =  get_top_bot_k_vec(dct(x_g, norm='ortho'),k=k)    \n",
    "    e_g = y_g - x_g\n",
    "    eta_g = bot_l2[i,1] = np.linalg.norm(x_hat_bot_k_g)\n",
    "    \n",
    "    a_g = np.sqrt(np.linalg.norm(x_hat_top_k_g)**2 + np.linalg.norm(eta_g)**2)\n",
    "    rho_g = np.sqrt(27)*np.sqrt(c*k*t_values_bp[i,1]/float(n))\n",
    "    \n",
    "    #We want to find a T such that rho^T a is very small - we use 1e-20 \n",
    "    T_g = int((np.log(1e-20) - np.log(a_g))/np.log(rho_g))\n",
    "    T_values[i,1] = T_g\n",
    "    \n",
    "    y_b = m_data_y_bp[i,:,:,2].flatten()\n",
    "    x_b= m_data_sub_bp[i,:,:,2].flatten()\n",
    "    \n",
    "    #Get actual top k and bottom k (we use the faster transform which may introduce some error)\n",
    "    x_hat_top_k_b, x_hat_bot_k_b =  get_top_bot_k_vec(dct(x_b, norm='ortho'),k=k)    \n",
    "    e_b = y_b- x_b\n",
    "    eta_b = bot_l2[i,2] = np.linalg.norm(x_hat_bot_k_b)\n",
    "    \n",
    "    a_b = np.sqrt(np.linalg.norm(x_hat_top_k_b)**2 + np.linalg.norm(eta_b)**2)\n",
    "    rho_b = np.sqrt(27)*np.sqrt(c*k*t_values_bp[i,2]/float(n))\n",
    "    \n",
    "    #We want to find a T such that rho^T a is very small - we use 1e-20 \n",
    "    T_b = int((np.log(1e-20) - np.log(a_b))/np.log(rho_b))\n",
    "    T_values[i,1] = T_b\n",
    "    \n",
    " \n",
    "    x_hat_approx_r,_ = iht(y_r,t_values_bp[i,0],T=T_r,k=k)\n",
    "    x_hat_approx_g,_ = iht(y_g,t_values_bp[i,1],T=T_g,k=k)\n",
    "    x_hat_approx_b,_ = iht(y_b,t_values_bp[i,2],T=T_b,k=k)\n",
    "    \n",
    "    x_hat_approx_top_k_r = get_topk_vec(x_hat_approx_r,k=k)\n",
    "    x_hat_approx_top_k_g = get_topk_vec(x_hat_approx_g,k=k)\n",
    "    x_hat_approx_top_k_b = get_topk_vec(x_hat_approx_b,k=k)\n",
    "    \n",
    "    #Note the norm of bottom k coefficients\n",
    "    bot_l2[i,0] = np.linalg.norm(x_hat_bot_k_r)\n",
    "    bot_l2[i,1] = np.linalg.norm(x_hat_bot_k_g)\n",
    "    bot_l2[i,2] = np.linalg.norm(x_hat_bot_k_b)\n",
    "\n",
    "\n",
    "\n",
    "    #Get the multiplicative constant\n",
    "    c_l2_r = np.sqrt((4*c*k*t_values_bp[i,0])/float(n))\n",
    "    c_inf_r = np.sqrt( (2*c*t_values_bp[i,0])/float(n))\n",
    "    \n",
    "    c_l2_g = np.sqrt((4*c*k*t_values_bp[i,1])/float(n))\n",
    "    c_inf_g = np.sqrt( (2*c*t_values_bp[i,1])/float(n))\n",
    "    \n",
    "    c_l2_b = np.sqrt((4*c*k*t_values_bp[i,2])/float(n))\n",
    "    c_inf_b = np.sqrt( (2*c*t_values_bp[i,2])/float(n))\n",
    "    \n",
    "    rho_r = np.sqrt(27)*np.sqrt((c*k*t_values_bp[i,0])/float(n))\n",
    "    rho_g = np.sqrt(27)*np.sqrt((c*k*t_values_bp[i,1])/float(n))\n",
    "    rho_b = np.sqrt(27)*np.sqrt((c*k*t_values_bp[i,2])/float(n))\n",
    "\n",
    "    #Calculate tau\n",
    "    tau[i,0] = (np.sqrt(3)*np.sqrt(1 + 2*np.sqrt((c*k*t_values_bp[i,0])/float(n))))/(1-rho_r)\n",
    "    tau[i,1] = (np.sqrt(3)*np.sqrt(1 + 2*np.sqrt((c*k*t_values_bp[i,1])/float(n))))/(1-rho_r)\n",
    "    tau[i,2] = (np.sqrt(3)*np.sqrt(1 + 2*np.sqrt((c*k*t_values_bp[i,2])/float(n))))/(1-rho_r)\n",
    "\n",
    "    #Note the errors\n",
    "    errors_l2[i] = np.linalg.norm(x_hat_top_k_r.flatten()- x_hat_approx_r.flatten()) + \\\n",
    "                        np.linalg.norm(x_hat_top_k_g.flatten()- x_hat_approx_g.flatten()) + \\\n",
    "                         np.linalg.norm(x_hat_top_k_b.flatten()- x_hat_approx_b.flatten())\n",
    "    #Note the errors\n",
    "    errors_inf[i] = np.linalg.norm(x_hat_top_k_r.flatten()- x_hat_approx_r.flatten(),ord=np.inf) + \\\n",
    "                        np.linalg.norm(x_hat_top_k_g.flatten()- x_hat_approx_g.flatten(),ord=np.inf) + \\\n",
    "                         np.linalg.norm(x_hat_top_k_b.flatten()- x_hat_approx_b.flatten(),ord=np.inf)\n",
    "    \n",
    "    #Calculate the difference from the upper bound\n",
    "    diff_l2[i] = (c_l2_r*tau[i,0]*bot_l2[i,0] + c_l2_g*tau[i,1]*bot_l2[i,1] + \\\n",
    "                    c_l2_b*tau[i,2]*bot_l2[i,2])- errors_l2[i] \n",
    "    diff_inf[i] = (c_inf_r*tau[i,0]*bot_l2[i,0] + c_inf_g*tau[i,1]*bot_l2[i,1] + \\\n",
    "                    c_inf_b*tau[i,2]*bot_l2[i,2])- errors_inf[i] \n",
    "    "
   ]
  },
  {
   "cell_type": "code",
   "execution_count": 7,
   "metadata": {},
   "outputs": [
    {
     "name": "stdout",
     "output_type": "stream",
     "text": [
      "1.5026666666666666 0.27767200546120996 17.349919199824182 0.19278638476583795 5.3815474023396215\n"
     ]
    }
   ],
   "source": [
    "print(np.mean(t_values_bp), \n",
    "      np.mean(errors_l2), \n",
    "      np.mean(diff_l2),\n",
    "      np.mean(errors_inf),\n",
    "      np.mean(diff_inf))"
   ]
  },
  {
   "cell_type": "code",
   "execution_count": 8,
   "metadata": {},
   "outputs": [],
   "source": [
    "mnist_tup_bp = (m_data_y_bp, m_data_sub_bp, t_values_bp,errors_l2, diff_l2,errors_inf,diff_inf )\n",
    "\n",
    "import pickle\n",
    "with open('data/cifar10_theory_iht_l0.pickle', 'wb') as f:\n",
    "    pickle.dump(mnist_tup_bp, f)\n"
   ]
  }
 ],
 "metadata": {
  "kernelspec": {
   "display_name": "Python 2",
   "language": "python",
   "name": "python2"
  },
  "language_info": {
   "codemirror_mode": {
    "name": "ipython",
    "version": 2
   },
   "file_extension": ".py",
   "mimetype": "text/x-python",
   "name": "python",
   "nbconvert_exporter": "python",
   "pygments_lexer": "ipython2",
   "version": "2.7.12"
  }
 },
 "nbformat": 4,
 "nbformat_minor": 2
}
