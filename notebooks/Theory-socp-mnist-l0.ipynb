{
 "cells": [
  {
   "cell_type": "markdown",
   "metadata": {},
   "source": [
    "# BP Experiments to verify theory for L-0 norm - MNIST"
   ]
  },
  {
   "cell_type": "code",
   "execution_count": 1,
   "metadata": {},
   "outputs": [
    {
     "name": "stderr",
     "output_type": "stream",
     "text": [
      "/usr/local/lib/python2.7/dist-packages/h5py/__init__.py:36: FutureWarning: Conversion of the second argument of issubdtype from `float` to `np.floating` is deprecated. In future, it will be treated as `np.float64 == np.dtype(float).type`.\n",
      "  from ._conv import register_converters as _register_converters\n",
      "Using TensorFlow backend.\n"
     ]
    }
   ],
   "source": [
    "%load_ext autoreload\n",
    "%autoreload 2\n",
    "from __future__ import division\n",
    "from __future__ import print_function\n",
    "\n",
    "import sys, os, gc, math\n",
    "import numpy as np\n",
    "from scipy.fftpack import dct,idct\n",
    "from keras.datasets import mnist, fashion_mnist\n",
    "from PIL import Image\n",
    "\n",
    "\n",
    "sys.path.append('../')\n",
    "\n",
    "from models.util import *\n",
    "\n",
    "\n",
    "#Seed used for choosing classes, training points, and test points.\n",
    "#SEED = 14\n",
    "SEED=11"
   ]
  },
  {
   "cell_type": "code",
   "execution_count": 2,
   "metadata": {},
   "outputs": [],
   "source": [
    "num_samples = 500\n",
    "sqrt_n = 28\n",
    "input_shape=(sqrt_n,sqrt_n,1)\n",
    "n = sqrt_n*sqrt_n\n",
    "k = 8\n",
    "c=2.0"
   ]
  },
  {
   "cell_type": "code",
   "execution_count": 3,
   "metadata": {},
   "outputs": [],
   "source": [
    "def four(k,n,c):\n",
    "    a = ((n/c) - (k**2))**2\n",
    "    b = (c/(n*k))\n",
    "    return a*(1/4.0)*b\n",
    "\n",
    "def book(k,n,c):\n",
    "    return (np.sqrt(n/(c*41))*4 - 2*k  )*0.5 \n",
    "\n",
    "def rns(k,t,n,c):\n",
    "    return ( np.sqrt(k+t)*(1.0/np.sqrt(k) + 1.0/np.sqrt(t))*np.sqrt((4*c*k*t)/n))"
   ]
  },
  {
   "cell_type": "code",
   "execution_count": 4,
   "metadata": {
    "scrolled": true
   },
   "outputs": [],
   "source": [
    "#Load MNIST data\n",
    "(X_train, _), (X_test, _) = mnist.load_data()\n",
    "X_train = X_train.reshape(-1, 28, 28, 1)\n",
    "X_test = X_test.reshape(-1, 28, 28, 1)\n",
    "\n",
    "m_data = np.concatenate((X_train,X_test))"
   ]
  },
  {
   "cell_type": "code",
   "execution_count": 5,
   "metadata": {},
   "outputs": [],
   "source": [
    "#Normalize the data\n",
    "m_data = m_data/255.0"
   ]
  },
  {
   "cell_type": "code",
   "execution_count": 6,
   "metadata": {},
   "outputs": [
    {
     "name": "stdout",
     "output_type": "stream",
     "text": [
      "Noise budget of 8\n"
     ]
    }
   ],
   "source": [
    "#Check MNIST results for 500 random images - BP\n",
    "t = int(four(float(k),float(n),float(c)))\n",
    "print('Noise budget of %d' % t)\n",
    "subset_idx = np.random.choice(np.arange(m_data.shape[0]),num_samples)\n",
    "m_data_sub_bp = m_data[subset_idx]\n",
    "m_data_y_bp = np.zeros((num_samples,sqrt_n,sqrt_n))\n",
    "t_values_bp = np.zeros(num_samples)\n",
    "for i in range(num_samples):\n",
    "    #first sample an element from the data\n",
    "    x = m_data_sub_bp[i,:,:,0].flatten()\n",
    "    #Now sample a t - must be atleast 1\n",
    "    t_l = np.random.randint(1,t)\n",
    "    t_values_bp[i] = t_l\n",
    "    #Now samnple the an index set from [n] with cardinality = t_l\n",
    "    s = np.random.choice(np.arange(n),t_l)\n",
    "    e = np.zeros(n)\n",
    "    #Now create the vector e\n",
    "    #pick a value for each element between 0 and 1 as the images are normalized\n",
    "    for j in range(t_l):\n",
    "        e[s[j]] = np.random.uniform()\n",
    "    y = x + e\n",
    "    m_data_y_bp[i,:,:] = y.reshape((sqrt_n,sqrt_n))  "
   ]
  },
  {
   "cell_type": "markdown",
   "metadata": {},
   "source": [
    "# Get \\delta_p and \\Delta_p"
   ]
  },
  {
   "cell_type": "code",
   "execution_count": 7,
   "metadata": {},
   "outputs": [],
   "source": [
    "#Form the matrix F\n",
    "F = get_matrix(n,tf='dct')"
   ]
  },
  {
   "cell_type": "code",
   "execution_count": null,
   "metadata": {},
   "outputs": [],
   "source": [
    "%%capture three\n",
    "#BP MNIST\n",
    "errors_l2_bp = np.zeros(m_data_y_bp.shape[0])\n",
    "bot_l2_bp = np.zeros(m_data_y_bp.shape[0])\n",
    "diff_l2_bp = np.zeros(m_data_y_bp.shape[0])\n",
    "\n",
    "for i in range(num_samples):\n",
    "    y = m_data_y_bp[i,:,:].flatten()\n",
    "    x = m_data_sub_bp[i,:,:].flatten()\n",
    "    \n",
    "    #Get actual top k and bottom k (we use the faster transform which may introduce some error)\n",
    "    x_hat_top_k, x_hat_bot_k =  get_top_bot_k_vec(dct(x, norm='ortho'),k=k)    \n",
    "    e = y - x \n",
    "    eta = bot_l2_bp[i] = np.linalg.norm(x_hat_bot_k)\n",
    "    I = np.identity(n)\n",
    "    A = np.concatenate((F.T,I), axis=1)\n",
    "    x_hat_approx = socp(y,A,n=2*n,eta=eta)[:n]\n",
    "    x_hat_approx_top_k = get_topk_vec(x_hat_approx,k=k)\n",
    "\n",
    "    \n",
    "    delta = np.sqrt( (c*float(k)*t_values_bp[i])/float(n))\n",
    "    mu = np.sqrt(1 + delta)/(1-delta)\n",
    "    theta = (np.sqrt(k+t_values_bp[i])/(1 - delta))*np.sqrt((float(k)*c)/float(n))\n",
    "    beta = np.sqrt((float(k)*c)/float(n))\n",
    "    upper = ( (2*mu*np.sqrt(k+t_values_bp[i]))/(1-theta) )*(1 + (beta/(1-delta)) )*eta\n",
    "    \n",
    "    #Note the errors\n",
    "    errors_l2_bp[i] = np.linalg.norm(x_hat_top_k.flatten()- x_hat_approx.flatten())\n",
    "   \n",
    "    #Calculate the difference from the upper bound\n",
    "    diff_l2_bp[i] = upper - errors_l2_bp[i]\n"
   ]
  },
  {
   "cell_type": "code",
   "execution_count": 11,
   "metadata": {},
   "outputs": [
    {
     "name": "stdout",
     "output_type": "stream",
     "text": [
      "4.012 5.0877232199863425 381.33082127731274\n"
     ]
    }
   ],
   "source": [
    "print(np.mean(t_values_bp), \n",
    "      np.mean(errors_l2_bp), \n",
    "      np.mean(diff_l2_bp))"
   ]
  },
  {
   "cell_type": "code",
   "execution_count": 12,
   "metadata": {},
   "outputs": [],
   "source": [
    "mnist_tup_bp = (m_data_y_bp, m_data_sub_bp, t_values_bp,errors_l2_bp, diff_l2_bp )\n",
    "\n",
    "import pickle\n",
    "with open('data/mnist_theory_socp_l0.pickle', 'wb') as f:\n",
    "    pickle.dump(mnist_tup_bp, f)\n"
   ]
  }
 ],
 "metadata": {
  "kernelspec": {
   "display_name": "Python 2",
   "language": "python",
   "name": "python2"
  },
  "language_info": {
   "codemirror_mode": {
    "name": "ipython",
    "version": 2
   },
   "file_extension": ".py",
   "mimetype": "text/x-python",
   "name": "python",
   "nbconvert_exporter": "python",
   "pygments_lexer": "ipython2",
   "version": "2.7.12"
  }
 },
 "nbformat": 4,
 "nbformat_minor": 2
}
