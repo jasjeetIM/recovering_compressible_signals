{
 "cells": [
  {
   "cell_type": "markdown",
   "metadata": {},
   "source": [
    "# L-0 Norm attacks against CIFAR-10"
   ]
  },
  {
   "cell_type": "code",
   "execution_count": 1,
   "metadata": {},
   "outputs": [
    {
     "name": "stderr",
     "output_type": "stream",
     "text": [
      "/usr/local/lib/python2.7/dist-packages/h5py/__init__.py:36: FutureWarning: Conversion of the second argument of issubdtype from `float` to `np.floating` is deprecated. In future, it will be treated as `np.float64 == np.dtype(float).type`.\n",
      "  from ._conv import register_converters as _register_converters\n",
      "Using TensorFlow backend.\n"
     ]
    }
   ],
   "source": [
    "%load_ext autoreload\n",
    "%autoreload 2\n",
    "from __future__ import division\n",
    "from __future__ import print_function\n",
    "\n",
    "import sys, os, gc, math,time\n",
    "import tensorflow as tf\n",
    "import numpy as np\n",
    "from sklearn import linear_model\n",
    "from sklearn.metrics import roc_curve, auc\n",
    "from scipy.fftpack import dct,idct\n",
    "from multiprocessing import Pool\n",
    "\n",
    "sys.path.append('../')\n",
    "os.environ[\"CUDA_VISIBLE_DEVICES\"] = \"0\"\n",
    "\n",
    "from models.neural_network import NeuralNetwork\n",
    "from models.cnn import CNN\n",
    "from models.util import *\n",
    "\n",
    "\n",
    "#Seed used for choosing classes, training points, and test points.\n",
    "#SEED = 14\n",
    "SEED=11"
   ]
  },
  {
   "cell_type": "code",
   "execution_count": 2,
   "metadata": {},
   "outputs": [],
   "source": [
    "#Define params of model\n",
    "input_shape = (32,32,3)\n",
    "num_classes = 10"
   ]
  },
  {
   "cell_type": "markdown",
   "metadata": {},
   "source": [
    "# Load/Create Network and Generate Adversarial Data"
   ]
  },
  {
   "cell_type": "code",
   "execution_count": 3,
   "metadata": {
    "scrolled": false
   },
   "outputs": [
    {
     "name": "stdout",
     "output_type": "stream",
     "text": [
      "WARNING:tensorflow:From ../models/neural_network.py:301: softmax_cross_entropy_with_logits (from tensorflow.python.ops.nn_ops) is deprecated and will be removed in a future version.\n",
      "Instructions for updating:\n",
      "\n",
      "Future major versions of TensorFlow will allow gradients to flow\n",
      "into the labels input on backprop by default.\n",
      "\n",
      "See @{tf.nn.softmax_cross_entropy_with_logits_v2}.\n",
      "\n",
      "Learning rate:  0.001\n",
      "Total Model Params: 273066\n",
      "Loaded model from disk\n"
     ]
    }
   ],
   "source": [
    "#%%capture one\n",
    "#Load model from disk\n",
    "model_name = 'cifar10-resnet'\n",
    "model_save_path = '../trained_models/' + model_name + '-model.json'\n",
    "weights_save_path = '../trained_models/' + model_name + 'weights'\n",
    "model = CNN(model_name=model_name, dataset='cifar10', transform='dct-3d',seed=SEED,project=False)\n",
    "print ('Total Model Params: %d' % model.num_params)\n",
    "model.load_model(model_save_path, weights_save_path) \n",
    "#epochs = 200\n",
    "#model.train(epochs=epochs)\n",
    "#model.save_model(model_save_path, weights_save_path)    "
   ]
  },
  {
   "cell_type": "code",
   "execution_count": 4,
   "metadata": {},
   "outputs": [
    {
     "name": "stdout",
     "output_type": "stream",
     "text": [
      "5000/5000 [==============================] - 2s 415us/step\n",
      "Model Accuracy: 0.85540\n"
     ]
    }
   ],
   "source": [
    "#Model Accuracy\n",
    "print ('Model Accuracy: %.5f' % (model.model.evaluate(model.val_data, model.val_labels)[1]))"
   ]
  },
  {
   "cell_type": "code",
   "execution_count": 10,
   "metadata": {},
   "outputs": [],
   "source": [
    "%%capture two\n",
    "#Get training samples\n",
    "num_train_samples = 1000\n",
    "data_indices = model.gen_rand_indices(low=int(model.train_data.shape[0]/2), high=model.train_data.shape[0], seed=SEED, num_samples=num_train_samples)\n",
    "train_data = model.train_data[data_indices]\n",
    "train_data_labels = model.train_labels[data_indices]\n",
    "train_data_labels_int = np.argmax(train_data_labels, axis=1)"
   ]
  },
  {
   "cell_type": "markdown",
   "metadata": {},
   "source": [
    "**GREYBOX ATTACKS**"
   ]
  },
  {
   "cell_type": "code",
   "execution_count": 11,
   "metadata": {},
   "outputs": [],
   "source": [
    "%%capture three\n",
    "num_test_samples_per_class = 100\n",
    "num_test_samples = num_classes*num_test_samples_per_class\n",
    "\n",
    "#Generate test points\n",
    "test_indices = model.gen_rand_indices_all_classes(y=model.test_labels, seed=SEED, num_samples=num_test_samples_per_class)"
   ]
  },
  {
   "cell_type": "code",
   "execution_count": null,
   "metadata": {
    "scrolled": true
   },
   "outputs": [],
   "source": [
    "%%capture four\n",
    "#Get Regular, JSMA, DF, and CW test points\n",
    "\n",
    "reg_data = model.test_data[test_indices]\n",
    "start_time = time.time()\n",
    "jsma_data = model.generate_perturbed_data(model.test_data[test_indices], model.test_labels[test_indices], seed=SEED, perturbation='JSMA', iterations=100)\n",
    "print(\"--- JSMA: %s seconds ---\" % (time.time() - start_time))\n",
    "start_time = time.time()\n",
    "#cwl0_data = model.generate_perturbed_data(model.test_data[test_indices], seed=SEED, perturbation='CW-l0')\n",
    "print(\"--- CW: %s seconds ---\" % (time.time() - start_time))"
   ]
  },
  {
   "cell_type": "code",
   "execution_count": 6,
   "metadata": {},
   "outputs": [],
   "source": [
    "#%%capture five\n",
    "#reg_data = np.load('data/reg_data_cifar10_l0.npy')\n",
    "#jsma_data = np.load('data/jsma_data_cifar10_l0.npy')\n",
    "#cwl0_data = np.load('data/cwl0_data_cifar10_l0.npy')\n"
   ]
  },
  {
   "cell_type": "code",
   "execution_count": null,
   "metadata": {},
   "outputs": [],
   "source": [
    "%%capture five\n",
    "np.save('data/reg_data_cifar10_l0', reg_data)\n",
    "np.save('data/jsma_data_cifar10_l0', jsma_data)\n",
    "np.save('data/cwl0_data_cifar10_l0', cwl0_data)"
   ]
  },
  {
   "cell_type": "code",
   "execution_count": null,
   "metadata": {},
   "outputs": [],
   "source": [
    "print ('Model Accuracy REG: %.5f' % (model.model.evaluate(reg_data,model.test_labels[test_indices])[1]))\n",
    "print ('Model Accuracy CW-l0: %.5f' % (model.model.evaluate(cwl0_data,model.test_labels[test_indices])[1]))\n",
    "print ('Model Accuracy JSMA: %.5f' % (model.model.evaluate(jsma_data,model.test_labels[test_indices])[1]))"
   ]
  },
  {
   "cell_type": "code",
   "execution_count": null,
   "metadata": {},
   "outputs": [],
   "source": [
    "#Lets visualize samples from each attack\n",
    "x_vis = [804 ,226, 999, 727, 537, 844, 956, 373, 322, 641]\n",
    "print ('Regular: ')\n",
    "visualize(reg_data[x_vis].reshape(-1,*input_shape), 10, '../figures/reg-cifar10_l0')\n",
    "print ('CW-l0: ')\n",
    "visualize(cwl0_data[x_vis].reshape(-1,*input_shape), 10, '../figures/cwl0-cifar10_l0')\n",
    "print ('JSMA: ')\n",
    "visualize(jsma_data[x_vis].reshape(-1,*input_shape), 10, '../figures/jsma-cifar10_l0')"
   ]
  },
  {
   "cell_type": "code",
   "execution_count": null,
   "metadata": {},
   "outputs": [],
   "source": [
    "%%capture seven\n",
    "#Get predictions\n",
    "reg_preds = model.model.predict(reg_data.reshape(-1,*input_shape))\n",
    "cwl0_preds = model.model.predict(cwl0_data.reshape(-1,*input_shape))\n",
    "jsma_preds = model.model.predict(jsma_data.reshape(-1,*input_shape))\n",
    "\n",
    "#Convert preds to labels\n",
    "reg_labels = preds_to_labels(reg_preds)\n",
    "cwl0_labels = preds_to_labels(cwl0_preds)\n",
    "jsma_labels = preds_to_labels(jsma_preds)\n",
    "\n",
    "#Select Adversarial Points (i.e. points that lead to misclassification)\n",
    "true_preds = np.argmax(model.test_labels[test_indices], axis=1)\n",
    "\n",
    "#Check which points are actually adversarial and select those\n",
    "cwl0_idx = np.where(np.argmax(cwl0_preds, axis=1) != true_preds)[0]\n",
    "jsma_idx = np.where(np.argmax(jsma_preds, axis=1) != true_preds)[0]\n",
    "\n",
    "\n",
    "#Filter data points to be used for similarity\n",
    "cwl0_data_fil = cwl0_data[cwl0_idx]\n",
    "jsma_data_fil = jsma_data[jsma_idx]\n",
    "\n",
    "\n",
    "#Filter labels to be used\n",
    "cwl0_labels_fil = cwl0_labels[cwl0_idx]\n",
    "jsma_labels_fil = jsma_labels[jsma_idx]"
   ]
  },
  {
   "cell_type": "code",
   "execution_count": null,
   "metadata": {},
   "outputs": [],
   "source": [
    "#Get l-0 distortion \n",
    "print ('CW-l0: %.5f' % (avg_l0_dist(reg_data[cwl0_idx], cwl0_data_fil)))\n",
    "print ('JSMA: %.5f' % (avg_l0_dist(reg_data[jsma_idx], jsma_data_fil)))"
   ]
  },
  {
   "cell_type": "code",
   "execution_count": null,
   "metadata": {},
   "outputs": [],
   "source": [
    "#Get l-2 distortion \n",
    "print ('CW-l0: %.5f' % (avg_l2_dist(reg_data[cwl0_idx], cwl0_data_fil)))\n",
    "print ('JSMA: %.5f' % (avg_l2_dist(reg_data[jsma_idx], jsma_data_fil)))"
   ]
  },
  {
   "cell_type": "code",
   "execution_count": null,
   "metadata": {},
   "outputs": [],
   "source": [
    "n = 32\n",
    "k=75"
   ]
  },
  {
   "cell_type": "code",
   "execution_count": null,
   "metadata": {},
   "outputs": [],
   "source": [
    "avg=0.0\n",
    "ratios = []\n",
    "for i,j in enumerate(cwl0_idx):\n",
    "    r = np.linalg.norm(reg_data[j]-cwl0_data_fil[i])/np.linalg.norm(reg_data[j])\n",
    "    ratios.append(r)\n",
    "    avg+=r\n",
    "print(avg/1000, max(ratios), min(ratios))"
   ]
  },
  {
   "cell_type": "code",
   "execution_count": null,
   "metadata": {},
   "outputs": [],
   "source": [
    "avg=0.0\n",
    "ratios = []\n",
    "for i,j in enumerate(jsma_idx):\n",
    "    r = np.linalg.norm(reg_data[j]-jsma_data_fil[i])/np.linalg.norm(reg_data[j])\n",
    "    ratios.append(r)\n",
    "    avg+=r\n",
    "print(avg/1000, max(ratios), min(ratios))"
   ]
  },
  {
   "cell_type": "markdown",
   "metadata": {},
   "source": [
    "# IHT Reconstruction"
   ]
  },
  {
   "cell_type": "code",
   "execution_count": null,
   "metadata": {},
   "outputs": [],
   "source": [
    "%%capture eleven\n",
    "#Reconstruct CW-l0\n",
    "clean_cwl0_iht = np.zeros(cwl0_data.shape)\n",
    "for i in range(num_test_samples):\n",
    "    x_adv_r = cwl0_data[i,:,:,0].flatten()\n",
    "    x_adv_g = cwl0_data[i,:,:,1].flatten()\n",
    "    x_adv_b = cwl0_data[i,:,:,2].flatten()\n",
    "    t_r = len(np.where(np.abs(x_adv_r - reg_data[i,:,:,0].flatten()) > 0.0001)[0])\n",
    "    t_g = len(np.where(np.abs(x_adv_g - reg_data[i,:,:,1].flatten()) > 0.0001)[0])\n",
    "    t_b = len(np.where(np.abs(x_adv_b - reg_data[i,:,:,2].flatten()) > 0.0001)[0])\n",
    "    x_hat_r,_ = iht(x_adv_r,t_r, T=100,k=500)\n",
    "    x_hat_g,_ = iht(x_adv_g,t_g, T=100,k=500)\n",
    "    x_hat_b,_ = iht(x_adv_b,t_b, T=100,k=500)\n",
    "    clean_cwl0_iht[i,:,:,0]= idct(x_hat_r.flatten(),norm='ortho').reshape(n,n)\n",
    "    clean_cwl0_iht[i,:,:,1]= idct(x_hat_g.flatten(),norm='ortho').reshape(n,n)\n",
    "    clean_cwl0_iht[i,:,:,2]= idct(x_hat_b.flatten(),norm='ortho').reshape(n,n)"
   ]
  },
  {
   "cell_type": "code",
   "execution_count": null,
   "metadata": {},
   "outputs": [],
   "source": [
    "%%capture twelve\n",
    "#Reconstruct CW-l0\n",
    "clean_jsma_iht = np.zeros(jsma_data.shape)\n",
    "for i in range(num_test_samples):\n",
    "    x_adv_r = jsma_data[i,:,:,0].flatten()\n",
    "    x_adv_g = jsma_data[i,:,:,1].flatten()\n",
    "    x_adv_b = jsma_data[i,:,:,2].flatten()\n",
    "    t_r = len(np.where(np.abs(x_adv_r - reg_data[i,:,:,0].flatten()) > 0.0001)[0])\n",
    "    t_g = len(np.where(np.abs(x_adv_g - reg_data[i,:,:,1].flatten()) > 0.0001)[0])\n",
    "    t_b = len(np.where(np.abs(x_adv_b - reg_data[i,:,:,2].flatten()) > 0.0001)[0])\n",
    "    x_hat_r,_ = iht(x_adv_r,t_r, T=100,k=500)\n",
    "    x_hat_g,_ = iht(x_adv_g,t_g, T=100,k=500)\n",
    "    x_hat_b,_ = iht(x_adv_b,t_b, T=100,k=500)\n",
    "    clean_jsma_iht[i,:,:,0]= idct(x_hat_r.flatten(),norm='ortho').reshape(n,n)\n",
    "    clean_jsma_iht[i,:,:,1]= idct(x_hat_g.flatten(),norm='ortho').reshape(n,n)\n",
    "    clean_jsma_iht[i,:,:,2]= idct(x_hat_b.flatten(),norm='ortho').reshape(n,n)"
   ]
  },
  {
   "cell_type": "code",
   "execution_count": null,
   "metadata": {},
   "outputs": [],
   "source": [
    "%%capture thirteen\n",
    "np.save('data/clean_cifar10_cwl0_l0-iht', clean_cwl0_iht)\n",
    "np.save('data/clean_cifar10_jsma_l0-iht', clean_jsma_iht)"
   ]
  },
  {
   "cell_type": "code",
   "execution_count": null,
   "metadata": {},
   "outputs": [],
   "source": [
    "visualize(reg_data[x_vis].reshape(-1,*input_shape), 10, '../figures/reg-test-cifar10_l0')\n",
    "visualize(clean_cwl0_iht[x_vis].reshape(-1,*input_shape), 10, '../figures/cwl0-clean-cifar10_l0-iht')\n",
    "visualize(clean_jsma_iht[x_vis].reshape(-1,*input_shape), 10, '../figures/jsma-clean-cifar10_l0-iht')"
   ]
  },
  {
   "cell_type": "code",
   "execution_count": null,
   "metadata": {},
   "outputs": [],
   "source": [
    "print ('Model Accuracy Reconstructed CW-l0: %.5f' % (model.model.evaluate(clean_cwl0_iht,model.test_labels[test_indices])[1]))\n",
    "print ('Model Accuracy Reconstructed JSMA: %.5f' % (model.model.evaluate(clean_jsma_iht,model.test_labels[test_indices])[1]))"
   ]
  },
  {
   "cell_type": "markdown",
   "metadata": {},
   "source": [
    "# BP Reconstruction"
   ]
  },
  {
   "cell_type": "code",
   "execution_count": null,
   "metadata": {},
   "outputs": [],
   "source": [
    "D = get_matrix(n*n)\n",
    "A = np.concatenate((D.T,np.identity(n*n)),axis=1)"
   ]
  },
  {
   "cell_type": "code",
   "execution_count": null,
   "metadata": {},
   "outputs": [],
   "source": [
    "clean_r,clean_g,clean_b = [],[],[]\n",
    "args_r,args_g,args_b =[],[],[] "
   ]
  },
  {
   "cell_type": "code",
   "execution_count": null,
   "metadata": {},
   "outputs": [],
   "source": [
    "def clean_sample(a):\n",
    "    x_adv, n, eta = a\n",
    "    x_hat = socp(x_adv.flatten(),A,n=n,eta=eta)[:n]\n",
    "    return x_hat"
   ]
  },
  {
   "cell_type": "code",
   "execution_count": null,
   "metadata": {},
   "outputs": [],
   "source": [
    "avg_r,avg_g,avg_b=0.0,0.0,0.0\n",
    "for i in range(num_test_samples):\n",
    "    _,x_bot_r= get_top_bot_k_vec(reg_data[i,:,:,0].flatten(),k=1000)\n",
    "    _,x_bot_g= get_top_bot_k_vec(reg_data[i,:,:,1].flatten(),k=1000)\n",
    "    _,x_bot_b= get_top_bot_k_vec(reg_data[i,:,:,2].flatten(),k=1000)\n",
    "    avg_r+=np.linalg.norm(x_bot_r)\n",
    "    avg_g+=np.linalg.norm(x_bot_g)\n",
    "    avg_b+=np.linalg.norm(x_bot_b)\n",
    "\n",
    "print(avg_r/float(num_test_samples), avg_g/float(num_test_samples),avg_b/float(num_test_samples),)"
   ]
  },
  {
   "cell_type": "code",
   "execution_count": 30,
   "metadata": {},
   "outputs": [],
   "source": [
    "#We use average values for eta to speed up experiments. Note that same experiment was done for JSMA.\n",
    "for i in range(num_test_samples):\n",
    "    args_r.append( (cwl0_data[i,:,:,0],2*n*n,0.5943346510772245))\n",
    "    args_g.append( (cwl0_data[i,:,:,1],2*n*n,0.5761962626140298))\n",
    "    args_b.append( (cwl0_data[i,:,:,2],2*n*n,0.4997660166254397))"
   ]
  },
  {
   "cell_type": "code",
   "execution_count": 31,
   "metadata": {},
   "outputs": [],
   "source": [
    "my_args = [args_r, args_g, args_b]\n",
    "my_clean = [clean_r, clean_g, clean_b]"
   ]
  },
  {
   "cell_type": "code",
   "execution_count": 33,
   "metadata": {},
   "outputs": [],
   "source": [
    "%%capture pooling1\n",
    "p = Pool(100)\n",
    "st = time.time()\n",
    "my_clean[0] = p.map(clean_sample, args_r)\n",
    "print(time.time() - st)\n",
    "p.terminate()"
   ]
  },
  {
   "cell_type": "code",
   "execution_count": 34,
   "metadata": {},
   "outputs": [],
   "source": [
    "%%capture pooling2\n",
    "p = Pool(100)\n",
    "st = time.time()\n",
    "my_clean[1] = p.map(clean_sample, args_g)\n",
    "print(time.time() - st)\n",
    "p.terminate()"
   ]
  },
  {
   "cell_type": "code",
   "execution_count": null,
   "metadata": {},
   "outputs": [],
   "source": [
    "%%capture pooling3\n",
    "p = Pool(100)\n",
    "st = time.time()\n",
    "my_clean[2] = p.map(clean_sample, args_b)\n",
    "print(time.time() - st)\n",
    "p.terminate()"
   ]
  },
  {
   "cell_type": "code",
   "execution_count": null,
   "metadata": {},
   "outputs": [],
   "source": [
    "%%capture collecting\n",
    "clean_cwl0 = np.zeros(cwl0_data.shape)\n",
    "for i in range(num_test_samples):\n",
    "    clean_cwl0[i,:,:,0] = idct(my_clean[0][i].flatten()[:n*n],norm='ortho').reshape(n,n)\n",
    "    clean_cwl0[i,:,:,1] = idct(my_clean[1][i].flatten()[:n*n],norm='ortho').reshape(n,n)\n",
    "    clean_cwl0[i,:,:,2] = idct(my_clean[2][i].flatten()[:n*n],norm='ortho').reshape(n,n)"
   ]
  },
  {
   "cell_type": "code",
   "execution_count": null,
   "metadata": {},
   "outputs": [],
   "source": [
    "%%capture saving\n",
    "np.save('data/clean_cifar10_cwl0_l0-socp', clean_cwl0)"
   ]
  },
  {
   "cell_type": "code",
   "execution_count": null,
   "metadata": {},
   "outputs": [],
   "source": [
    "#Done on another notebook using same process as cw_l0. \n",
    "clean_jsma= np.load('data/clean_cifar10_jsma_l0-socp.npy')"
   ]
  },
  {
   "cell_type": "code",
   "execution_count": 41,
   "metadata": {},
   "outputs": [
    {
     "name": "stdout",
     "output_type": "stream",
     "text": [
      "1000/1000 [==============================] - 0s 224us/step\n",
      "Model Accuracy Reconstructed CWl0: 0.67000\n",
      "1000/1000 [==============================] - 0s 182us/step\n",
      "Model Accuracy Reconstructed JSMA: 0.67300\n"
     ]
    }
   ],
   "source": [
    "print ('Model Accuracy Reconstructed CWl0: %.5f' % (model.model.evaluate(clean_cwl0,model.test_labels[test_indices])[1]))\n",
    "print ('Model Accuracy Reconstructed JSMA: %.5f' % (model.model.evaluate(clean_jsma,model.test_labels[test_indices])[1]))"
   ]
  },
  {
   "cell_type": "code",
   "execution_count": 42,
   "metadata": {},
   "outputs": [
    {
     "data": {
      "image/png": "[encoded data removed]",
      "text/plain": [
       "<Figure size 1080x1080 with 10 Axes>"
      ]
     },
     "metadata": {},
     "output_type": "display_data"
    },
    {
     "data": {
      "image/png": "[encoded data removed]",
      "text/plain": [
       "<Figure size 1080x1080 with 10 Axes>"
      ]
     },
     "metadata": {},
     "output_type": "display_data"
    }
   ],
   "source": [
    "visualize(clean_cwl0[x_vis].reshape(-1,*input_shape), 10, '../figures/cwl0-clean-cifar10_l0-socp')\n",
    "visualize(clean_jsma[x_vis].reshape(-1,*input_shape), 10, '../figures/jsma-clean-cifar10_l0-socp')"
   ]
  }
 ],
 "metadata": {
  "kernelspec": {
   "display_name": "Python 2",
   "language": "python",
   "name": "python2"
  },
  "language_info": {
   "codemirror_mode": {
    "name": "ipython",
    "version": 2
   },
   "file_extension": ".py",
   "mimetype": "text/x-python",
   "name": "python",
   "nbconvert_exporter": "python",
   "pygments_lexer": "ipython2",
   "version": "2.7.12"
  }
 },
 "nbformat": 4,
 "nbformat_minor": 2
}
