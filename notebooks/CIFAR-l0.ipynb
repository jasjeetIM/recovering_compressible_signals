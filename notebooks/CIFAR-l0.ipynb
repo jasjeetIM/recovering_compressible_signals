{
 "cells": [
  {
   "cell_type": "code",
   "execution_count": 1,
   "metadata": {},
   "outputs": [
    {
     "name": "stderr",
     "output_type": "stream",
     "text": [
      "/usr/local/lib/python2.7/dist-packages/h5py/__init__.py:36: FutureWarning: Conversion of the second argument of issubdtype from `float` to `np.floating` is deprecated. In future, it will be treated as `np.float64 == np.dtype(float).type`.\n",
      "  from ._conv import register_converters as _register_converters\n",
      "Using TensorFlow backend.\n"
     ]
    }
   ],
   "source": [
    "%load_ext autoreload\n",
    "%autoreload 2\n",
    "from __future__ import division\n",
    "from __future__ import print_function\n",
    "\n",
    "import sys, os, gc, math\n",
    "import tensorflow as tf\n",
    "import numpy as np\n",
    "from sklearn import linear_model\n",
    "from sklearn.metrics import roc_curve, auc\n",
    "from scipy.fftpack import dct,idct\n",
    "\n",
    "\n",
    "sys.path.append('../')\n",
    "os.environ[\"CUDA_VISIBLE_DEVICES\"] = \"1\"\n",
    "\n",
    "from models.neural_network import NeuralNetwork\n",
    "from models.cnn import CNN\n",
    "from models.util import *\n",
    "\n",
    "\n",
    "#Seed used for choosing classes, training points, and test points.\n",
    "#SEED = 14\n",
    "SEED=11"
   ]
  },
  {
   "cell_type": "code",
   "execution_count": 2,
   "metadata": {},
   "outputs": [],
   "source": [
    "#Define params of model\n",
    "input_shape = (32,32,1)\n",
    "num_classes = 10"
   ]
  },
  {
   "cell_type": "code",
   "execution_count": 3,
   "metadata": {
    "scrolled": false
   },
   "outputs": [
    {
     "name": "stderr",
     "output_type": "stream",
     "text": [
      "../models/neural_network.py:166: ComplexWarning: Casting complex values to real discards the imaginary part\n",
      "  x_rec[i,:,:,0]= f_recon_r\n",
      "../models/neural_network.py:167: ComplexWarning: Casting complex values to real discards the imaginary part\n",
      "  x_rec[i,:,:,1]= f_recon_g\n",
      "../models/neural_network.py:168: ComplexWarning: Casting complex values to real discards the imaginary part\n",
      "  x_rec[i,:,:,2]= f_recon_b\n"
     ]
    },
    {
     "name": "stdout",
     "output_type": "stream",
     "text": [
      "WARNING:tensorflow:From ../models/neural_network.py:336: softmax_cross_entropy_with_logits (from tensorflow.python.ops.nn_ops) is deprecated and will be removed in a future version.\n",
      "Instructions for updating:\n",
      "\n",
      "Future major versions of TensorFlow will allow gradients to flow\n",
      "into the labels input on backprop by default.\n",
      "\n",
      "See @{tf.nn.softmax_cross_entropy_with_logits_v2}.\n",
      "\n",
      "Learning rate:  0.001\n",
      "Total Model Params: 273066\n",
      "Loaded model from disk\n"
     ]
    }
   ],
   "source": [
    "#%%capture one\n",
    "#Load model from disk\n",
    "model_name = 'cifar10-resnet'\n",
    "model_save_path = '../trained_models/' + model_name + '-model.json'\n",
    "weights_save_path = '../trained_models/' + model_name + 'weights'\n",
    "model = CNN(model_name=model_name, dataset='cifar10', transform='dct-3d',seed=SEED)\n",
    "print ('Total Model Params: %d' % model.num_params)\n",
    "model.load_model(model_save_path, weights_save_path) \n",
    "#epochs = 200\n",
    "#model.train(epochs=epochs)\n",
    "#model.save_model(model_save_path, weights_save_path)    "
   ]
  },
  {
   "cell_type": "code",
   "execution_count": 4,
   "metadata": {},
   "outputs": [
    {
     "name": "stdout",
     "output_type": "stream",
     "text": [
      "10000/10000 [==============================] - 4s 377us/step\n",
      "Model Accuracy: 0.82800\n"
     ]
    }
   ],
   "source": [
    "#Model Accuracy\n",
    "print ('Model Accuracy: %.5f' % (model.model.evaluate(model.val_data, model.val_labels)[1]))"
   ]
  },
  {
   "cell_type": "code",
   "execution_count": 5,
   "metadata": {},
   "outputs": [],
   "source": [
    "%%capture two\n",
    "#Get training samples\n",
    "num_train_samples = 1000\n",
    "data_indices = model.gen_rand_indices(low=int(model.train_data.shape[0]/2), high=model.train_data.shape[0], seed=SEED, num_samples=num_train_samples)\n",
    "train_data = model.train_data[data_indices]\n",
    "train_data_labels = model.train_labels[data_indices]\n",
    "train_data_labels_int = np.argmax(train_data_labels, axis=1)"
   ]
  },
  {
   "cell_type": "markdown",
   "metadata": {},
   "source": [
    "**GREYBOX ATTACKS**"
   ]
  },
  {
   "cell_type": "code",
   "execution_count": 6,
   "metadata": {},
   "outputs": [],
   "source": [
    "%%capture three\n",
    "num_test_samples_per_class = 100\n",
    "num_test_samples = num_classes*num_test_samples_per_class\n",
    "\n",
    "#Generate test points\n",
    "test_indices = model.gen_rand_indices_all_classes(y=model.test_labels, seed=SEED, num_samples=num_test_samples_per_class)"
   ]
  },
  {
   "cell_type": "code",
   "execution_count": null,
   "metadata": {
    "scrolled": true
   },
   "outputs": [],
   "source": [
    "%%capture four\n",
    "import time\n",
    "#Get Regular, JSMA, DF, and CW test points\n",
    "reg_data = model.test_data[test_indices]\n",
    "start_time = time.time()\n",
    "jsma_data = model.generate_perturbed_data(model.test_data[test_indices], model.test_labels[test_indices], seed=SEED, perturbation='JSMA', iterations=100)\n",
    "print(\"--- JSMA: %s seconds ---\" % (time.time() - start_time))\n",
    "start_time = time.time()\n",
    "cwl0_data = model.generate_perturbed_data(model.test_data[test_indices], seed=SEED, perturbation='CW-l0')\n",
    "print(\"--- CW: %s seconds ---\" % (time.time() - start_time))"
   ]
  },
  {
   "cell_type": "code",
   "execution_count": null,
   "metadata": {},
   "outputs": [],
   "source": [
    "#%%capture five\n",
    "#reg_data = np.load('data/reg_data_mnist_dct_l0-socp.npy')\n",
    "#jsma_data = np.load('data/jsma_data_mnist_dct_l0-socp.npy')\n",
    "#cwl0_data = np.load('data/cwl0_data_mnist_dct_l0-socp.npy')\n"
   ]
  },
  {
   "cell_type": "code",
   "execution_count": null,
   "metadata": {},
   "outputs": [],
   "source": [
    "%%capture five\n",
    "np.save('data/reg_data_cifar10_l0', reg_data)\n",
    "np.save('data/jsma_data_cifar10_l0', jsma_data)\n",
    "np.save('data/cwl0_data_cifar10_l0', cwl0_data)"
   ]
  },
  {
   "cell_type": "code",
   "execution_count": 13,
   "metadata": {},
   "outputs": [],
   "source": [
    "%%capture six\n",
    "#Reset tf.graph() as Cleverhans modifies the graph\n",
    "tf.reset_default_graph()\n",
    "\n",
    "#Reload the model and weights\n",
    "model = CNN(model_name=model_name, dataset='cifar10',transform='dct-3d', seed=SEED)\n",
    "model.load_model(model_save_path, weights_save_path)    "
   ]
  },
  {
   "cell_type": "code",
   "execution_count": 14,
   "metadata": {},
   "outputs": [
    {
     "name": "stdout",
     "output_type": "stream",
     "text": [
      "1000/1000 [==============================] - 0s 148us/step\n",
      "Model Accuracy REG: 0.76100\n",
      "1000/1000 [==============================] - 0s 67us/step\n",
      "Model Accuracy CW-l0: 0.13500\n",
      "1000/1000 [==============================] - 0s 70us/step\n",
      "Model Accuracy JSMA: 0.10500\n"
     ]
    }
   ],
   "source": [
    "print ('Model Accuracy REG: %.5f' % (model.model.evaluate(reg_data,model.test_labels[test_indices])[1]))\n",
    "print ('Model Accuracy CW-l0: %.5f' % (model.model.evaluate(cwl0_data,model.test_labels[test_indices])[1]))\n",
    "print ('Model Accuracy JSMA: %.5f' % (model.model.evaluate(jsma_data,model.test_labels[test_indices])[1]))"
   ]
  },
  {
   "cell_type": "code",
   "execution_count": 15,
   "metadata": {},
   "outputs": [
    {
     "name": "stdout",
     "output_type": "stream",
     "text": [
      "Training Data: \n"
     ]
    },
    {
     "ename": "AssertionError",
     "evalue": "",
     "output_type": "error",
     "traceback": [
      "\u001b[0;31m---------------------------------------------------------------------------\u001b[0m",
      "\u001b[0;31mAssertionError\u001b[0m                            Traceback (most recent call last)",
      "\u001b[0;32m<ipython-input-15-a9a31beadfde>\u001b[0m in \u001b[0;36m<module>\u001b[0;34m()\u001b[0m\n\u001b[1;32m      2\u001b[0m \u001b[0mx_vis\u001b[0m \u001b[0;34m=\u001b[0m \u001b[0mnp\u001b[0m\u001b[0;34m.\u001b[0m\u001b[0mrandom\u001b[0m\u001b[0;34m.\u001b[0m\u001b[0mchoice\u001b[0m\u001b[0;34m(\u001b[0m\u001b[0mrange\u001b[0m\u001b[0;34m(\u001b[0m\u001b[0;36m0\u001b[0m\u001b[0;34m,\u001b[0m\u001b[0mnum_train_samples\u001b[0m\u001b[0;34m)\u001b[0m\u001b[0;34m,\u001b[0m \u001b[0;36m10\u001b[0m\u001b[0;34m)\u001b[0m\u001b[0;34m\u001b[0m\u001b[0m\n\u001b[1;32m      3\u001b[0m \u001b[0;32mprint\u001b[0m \u001b[0;34m(\u001b[0m\u001b[0;34m'Training Data: '\u001b[0m\u001b[0;34m)\u001b[0m\u001b[0;34m\u001b[0m\u001b[0m\n\u001b[0;32m----> 4\u001b[0;31m \u001b[0mvisualize\u001b[0m\u001b[0;34m(\u001b[0m\u001b[0mtrain_data\u001b[0m\u001b[0;34m[\u001b[0m\u001b[0mx_vis\u001b[0m\u001b[0;34m]\u001b[0m\u001b[0;34m.\u001b[0m\u001b[0mreshape\u001b[0m\u001b[0;34m(\u001b[0m\u001b[0;34m-\u001b[0m\u001b[0;36m1\u001b[0m\u001b[0;34m,\u001b[0m\u001b[0;34m*\u001b[0m\u001b[0minput_shape\u001b[0m\u001b[0;34m)\u001b[0m\u001b[0;34m,\u001b[0m \u001b[0;36m10\u001b[0m\u001b[0;34m,\u001b[0m \u001b[0;34m'../figures/train-cifar10_dct_l0-socp'\u001b[0m\u001b[0;34m)\u001b[0m\u001b[0;34m\u001b[0m\u001b[0m\n\u001b[0m",
      "\u001b[0;32m/workspace/cs_aml/models/util.pyc\u001b[0m in \u001b[0;36mvisualize\u001b[0;34m(image_list, num_images, savefig)\u001b[0m\n\u001b[1;32m    108\u001b[0m \u001b[0;32mdef\u001b[0m \u001b[0mvisualize\u001b[0m\u001b[0;34m(\u001b[0m\u001b[0mimage_list\u001b[0m\u001b[0;34m,\u001b[0m \u001b[0mnum_images\u001b[0m\u001b[0;34m,\u001b[0m \u001b[0msavefig\u001b[0m\u001b[0;34m=\u001b[0m\u001b[0;34m''\u001b[0m\u001b[0;34m)\u001b[0m\u001b[0;34m:\u001b[0m\u001b[0;34m\u001b[0m\u001b[0m\n\u001b[1;32m    109\u001b[0m     \u001b[0;34m\"\"\"Visualize images in a grid\"\"\"\u001b[0m\u001b[0;34m\u001b[0m\u001b[0m\n\u001b[0;32m--> 110\u001b[0;31m     \u001b[0;32massert\u001b[0m\u001b[0;34m(\u001b[0m\u001b[0mlen\u001b[0m\u001b[0;34m(\u001b[0m\u001b[0mimage_list\u001b[0m\u001b[0;34m)\u001b[0m \u001b[0;34m==\u001b[0m \u001b[0mnum_images\u001b[0m\u001b[0;34m)\u001b[0m\u001b[0;34m\u001b[0m\u001b[0m\n\u001b[0m\u001b[1;32m    111\u001b[0m     \u001b[0mfig\u001b[0m\u001b[0;34m=\u001b[0m\u001b[0mplt\u001b[0m\u001b[0;34m.\u001b[0m\u001b[0mfigure\u001b[0m\u001b[0;34m(\u001b[0m\u001b[0mfigsize\u001b[0m\u001b[0;34m=\u001b[0m\u001b[0;34m(\u001b[0m\u001b[0;36m15\u001b[0m\u001b[0;34m,\u001b[0m\u001b[0;36m15\u001b[0m\u001b[0;34m)\u001b[0m\u001b[0;34m)\u001b[0m\u001b[0;34m\u001b[0m\u001b[0m\n\u001b[1;32m    112\u001b[0m     \u001b[0mcolumns\u001b[0m \u001b[0;34m=\u001b[0m \u001b[0mnum_images\u001b[0m\u001b[0;34m\u001b[0m\u001b[0m\n",
      "\u001b[0;31mAssertionError\u001b[0m: "
     ]
    }
   ],
   "source": [
    "#Lets visualize training data\n",
    "x_vis = np.random.choice(range(0,num_train_samples), 10)\n",
    "print ('Training Data: ')\n",
    "visualize(train_data[x_vis].reshape(-1,*input_shape), 10, '../figures/train-cifar10_l0')"
   ]
  },
  {
   "cell_type": "code",
   "execution_count": null,
   "metadata": {},
   "outputs": [],
   "source": [
    "#Lets visualize samples from each attack\n",
    "x_vis = np.random.choice(range(0,num_test_samples), 10)\n",
    "print ('Regular: ')\n",
    "visualize(reg_data[x_vis].reshape(-1,*input_shape), 10, '../figures/reg-cifar10_l0')\n",
    "print ('CW-l0: ')\n",
    "visualize(cwl0_data[x_vis].reshape(-1,*input_shape), 10, '../figures/cwl0-cifar10_l0')\n",
    "print ('JSMA: ')\n",
    "visualize(jsma_data[x_vis].reshape(-1,*input_shape), 10, '../figures/jsma-cifar10_l0')"
   ]
  },
  {
   "cell_type": "code",
   "execution_count": null,
   "metadata": {},
   "outputs": [],
   "source": [
    "%%capture seven\n",
    "#Get predictions\n",
    "reg_preds = model.model.predict(reg_data.reshape(-1,*input_shape))\n",
    "cwl0_preds = model.model.predict(cwl0_data.reshape(-1,*input_shape))\n",
    "jsma_preds = model.model.predict(jsma_data.reshape(-1,*input_shape))\n",
    "\n",
    "#Convert preds to labels\n",
    "reg_labels = preds_to_labels(reg_preds)\n",
    "cwl0_labels = preds_to_labels(cwl0_preds)\n",
    "jsma_labels = preds_to_labels(jsma_preds)\n",
    "\n",
    "#Select Adversarial Points (i.e. points that lead to misclassification)\n",
    "true_preds = np.argmax(model.test_labels[test_indices], axis=1)\n",
    "\n",
    "#Check which points are actually adversarial and select those\n",
    "cwl0_idx = np.where(np.argmax(cwl0_preds, axis=1) != true_preds)[0]\n",
    "jsma_idx = np.where(np.argmax(jsma_preds, axis=1) != true_preds)[0]\n",
    "\n",
    "\n",
    "#Filter data points to be used for similarity\n",
    "cwl0_data_fil = cwl0_data[cwl0_idx]\n",
    "jsma_data_fil = jsma_data[jsma_idx]\n",
    "\n",
    "\n",
    "#Filter labels to be used\n",
    "cwl0_labels_fil = cwl0_labels[cwl0_idx]\n",
    "jsma_labels_fil = jsma_labels[jsma_idx]"
   ]
  },
  {
   "cell_type": "code",
   "execution_count": null,
   "metadata": {},
   "outputs": [],
   "source": [
    "#Get l-0 distortion \n",
    "print ('CW-l0: %.5f' % (avg_l0_dist(reg_data[cwl0_idx], cwl0_data_fil)))\n",
    "print ('JSMA: %.5f' % (avg_l0_dist(reg_data[jsma_idx], jsma_data_fil)))"
   ]
  },
  {
   "cell_type": "code",
   "execution_count": null,
   "metadata": {},
   "outputs": [],
   "source": [
    "#Form the DCT matrix\n",
    "D = get_matrix(n=32*32*3)"
   ]
  },
  {
   "cell_type": "code",
   "execution_count": null,
   "metadata": {},
   "outputs": [],
   "source": [
    "def get_topk_vec(x,k):\n",
    "    ind = np.argpartition(x, -k)[-k:]\n",
    "    temp = np.zeros(x.shape)\n",
    "    temp[ind] = x[ind]\n",
    "    return temp"
   ]
  },
  {
   "cell_type": "code",
   "execution_count": 41,
   "metadata": {},
   "outputs": [],
   "source": [
    "clean_reg = np.zeros(jsma_data.shape)\n",
    "for i in range(num_test_samples):\n",
    "    x_adv = reg_data[i,:,:,0]\n",
    "    x_hat = np.dot(D,x_adv.flatten())\n",
    "    x_hat = get_topk_vec(x_hat,k=40)\n",
    "    clean_reg[i,:,:,0] = np.dot(D.T,x_hat.flatten()).reshape(28,28)"
   ]
  },
  {
   "cell_type": "code",
   "execution_count": 23,
   "metadata": {},
   "outputs": [
    {
     "name": "stdout",
     "output_type": "stream",
     "text": [
      "0.1560436828339007 1.0398992 0.0016238204\n"
     ]
    }
   ],
   "source": [
    "avg=0.0\n",
    "ratios = []\n",
    "for i,j in enumerate(cwl0_idx):\n",
    "    r = np.linalg.norm(reg_data[j]-cwl0_data_fil[i])/np.linalg.norm(reg_data[j])\n",
    "    ratios.append(r)\n",
    "    avg+=r\n",
    "print(avg/1000, max(ratios), min(ratios))"
   ]
  },
  {
   "cell_type": "code",
   "execution_count": 24,
   "metadata": {},
   "outputs": [
    {
     "name": "stdout",
     "output_type": "stream",
     "text": [
      "0.1564193885149434 1.4932045 0.005894725\n"
     ]
    }
   ],
   "source": [
    "avg=0.0\n",
    "ratios = []\n",
    "for i,j in enumerate(jsma_idx):\n",
    "    r = np.linalg.norm(reg_data[j]-jsma_data_fil[i])/np.linalg.norm(reg_data[j])\n",
    "    ratios.append(r)\n",
    "    avg+=r\n",
    "print(avg/1000, max(ratios), min(ratios))"
   ]
  },
  {
   "cell_type": "code",
   "execution_count": 30,
   "metadata": {},
   "outputs": [],
   "source": [
    "def iht_t_mat(y,img,t,D, T=100,k=40):\n",
    "    x_hat = np.zeros(y.shape) \n",
    "    e_hat = np.zeros(y.shape)\n",
    "    for i in range(T):\n",
    "        x_hat,_ = get_top_bot_k_vec(np.dot(D,(y - e_hat)), k)\n",
    "        e_hat,_ = get_top_bot_k_vec(y - np.dot(D.T,x_hat), t)  \n",
    "    return x_hat"
   ]
  },
  {
   "cell_type": "code",
   "execution_count": 32,
   "metadata": {},
   "outputs": [],
   "source": [
    "def get_top_and_bot_k(X,k):\n",
    "    idx = bn.argpartition(X, X.size-k, axis=None)[-k:]\n",
    "    width = X.shape[1]\n",
    "    idx = np.array([divmod(i, width) for i in idx])\n",
    "    top = np.zeros((X.shape)) + 1j*0\n",
    "    top[idx[:,0],idx[:,1]] = X[idx[:,0],idx[:,1]]\n",
    "    bot = X - top\n",
    "         \n",
    "    return top,bot\n",
    "\n",
    "\n",
    "def get_top_bot_k_vec(x,k):\n",
    "    ind = np.argpartition(x, -k)[-k:]\n",
    "    temp = np.zeros(x.shape)\n",
    "    temp[ind] = x[ind]\n",
    "    return temp, x - temp"
   ]
  },
  {
   "cell_type": "code",
   "execution_count": 34,
   "metadata": {},
   "outputs": [],
   "source": [
    "%%capture eleven\n",
    "#Reconstruct CW-l0\n",
    "t=20\n",
    "clean_cwl0_iht = np.zeros(cwl0_data.shape)\n",
    "for i in range(num_test_samples):\n",
    "    x_adv = cwl0_data[i,:,:,0].flatten()\n",
    "    x_hat = iht_t_mat(x_adv,reg_data[i,:,:,0].flatten(), t, D, T=100,k=40)\n",
    "    clean_cwl0_iht[i,:,:,0]= np.dot(D.T,x_hat.flatten()).reshape(28,28)"
   ]
  },
  {
   "cell_type": "code",
   "execution_count": 35,
   "metadata": {},
   "outputs": [],
   "source": [
    "%%capture twelve\n",
    "#Reconstruct JSMA-l0\n",
    "t=20\n",
    "clean_jsma_iht = np.zeros(jsma_data.shape)\n",
    "for i in range(num_test_samples):\n",
    "    x_adv = jsma_data[i,:,:,0].flatten()\n",
    "    x_hat = iht_t_mat(x_adv,reg_data[i,:,:,0].flatten(), t, D, T=100,k=40)\n",
    "    clean_jsma_iht[i,:,:,0]= np.dot(D.T,x_hat.flatten()).reshape(28,28)"
   ]
  },
  {
   "cell_type": "code",
   "execution_count": 36,
   "metadata": {},
   "outputs": [],
   "source": [
    "%%capture thirteen\n",
    "np.save('data/clean_cifar10_cwl0_l0-iht', clean_cwl0_iht)\n",
    "np.save('data/clean_cifar10_jsma_l0-iht', clean_jsma_iht)"
   ]
  },
  {
   "cell_type": "code",
   "execution_count": 39,
   "metadata": {},
   "outputs": [],
   "source": [
    "x_vis = np.random.choice(range(0,num_test_samples), 10)\n",
    "\n"
   ]
  },
  {
   "cell_type": "code",
   "execution_count": 42,
   "metadata": {},
   "outputs": [
    {
     "data": {
      "image/png": "[encoded data removed]",
      "text/plain": [
       "<Figure size 1080x1080 with 10 Axes>"
      ]
     },
     "metadata": {},
     "output_type": "display_data"
    },
    {
     "data": {
      "image/png": "[encoded data removed]",
      "text/plain": [
       "<Figure size 1080x1080 with 10 Axes>"
      ]
     },
     "metadata": {},
     "output_type": "display_data"
    },
    {
     "data": {
      "image/png": "[encoded data removed]",
      "text/plain": [
       "<Figure size 1080x1080 with 10 Axes>"
      ]
     },
     "metadata": {},
     "output_type": "display_data"
    }
   ],
   "source": [
    "visualize(clean_reg[x_vis].reshape(-1,*input_shape), 10, '../figures/reg-test-cifar10_l0')\n",
    "visualize(clean_cwl0_iht[x_vis].reshape(-1,*input_shape), 10, '../figures/cwl0-clean-cifar10_l0-iht')\n",
    "visualize(clean_jsma_iht[x_vis].reshape(-1,*input_shape), 10, '../figures/jsma-clean-cifar10_l0-iht')"
   ]
  },
  {
   "cell_type": "code",
   "execution_count": 38,
   "metadata": {},
   "outputs": [
    {
     "name": "stdout",
     "output_type": "stream",
     "text": [
      "1000/1000 [==============================] - 0s 65us/step\n",
      "Model Accuracy Reconstructed CW-l0: 0.77700\n",
      "1000/1000 [==============================] - 0s 50us/step\n",
      "Model Accuracy Reconstructed JSMA: 0.83400\n"
     ]
    }
   ],
   "source": [
    "print ('Model Accuracy Reconstructed CW-l0: %.5f' % (model.model.evaluate(clean_cwl0_iht,model.test_labels[test_indices])[1]))\n",
    "print ('Model Accuracy Reconstructed JSMA: %.5f' % (model.model.evaluate(clean_jsma_iht,model.test_labels[test_indices])[1]))"
   ]
  },
  {
   "cell_type": "code",
   "execution_count": null,
   "metadata": {},
   "outputs": [],
   "source": []
  }
 ],
 "metadata": {
  "kernelspec": {
   "display_name": "Python 2",
   "language": "python",
   "name": "python2"
  },
  "language_info": {
   "codemirror_mode": {
    "name": "ipython",
    "version": 2
   },
   "file_extension": ".py",
   "mimetype": "text/x-python",
   "name": "python",
   "nbconvert_exporter": "python",
   "pygments_lexer": "ipython2",
   "version": "2.7.12"
  }
 },
 "nbformat": 4,
 "nbformat_minor": 2
}
