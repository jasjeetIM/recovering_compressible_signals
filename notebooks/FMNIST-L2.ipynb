{
 "cells": [
  {
   "cell_type": "markdown",
   "metadata": {},
   "source": [
    "## L-2 Norm attacks against Fasion-MNIST"
   ]
  },
  {
   "cell_type": "code",
   "execution_count": 1,
   "metadata": {},
   "outputs": [
    {
     "name": "stderr",
     "output_type": "stream",
     "text": [
      "/usr/local/lib/python2.7/dist-packages/h5py/__init__.py:36: FutureWarning: Conversion of the second argument of issubdtype from `float` to `np.floating` is deprecated. In future, it will be treated as `np.float64 == np.dtype(float).type`.\n",
      "  from ._conv import register_converters as _register_converters\n",
      "Using TensorFlow backend.\n"
     ]
    }
   ],
   "source": [
    "%load_ext autoreload\n",
    "%autoreload 2\n",
    "from __future__ import division\n",
    "from __future__ import print_function\n",
    "\n",
    "import sys, os, gc, math\n",
    "import tensorflow as tf\n",
    "import numpy as np\n",
    "from sklearn import linear_model\n",
    "from sklearn.metrics import roc_curve, auc\n",
    "from scipy.fftpack import dct,idct\n",
    "\n",
    "\n",
    "sys.path.append('../')\n",
    "os.environ[\"CUDA_VISIBLE_DEVICES\"] = \"0\"\n",
    "\n",
    "from models.neural_network import NeuralNetwork\n",
    "from models.cnn import CNN\n",
    "from models.util import *\n",
    "\n",
    "\n",
    "#Seed used for choosing classes, training points, and test points.\n",
    "#SEED = 14\n",
    "SEED=11"
   ]
  },
  {
   "cell_type": "code",
   "execution_count": 2,
   "metadata": {},
   "outputs": [],
   "source": [
    "#Define params of model\n",
    "input_shape = (28,28,1)\n",
    "num_classes = 10"
   ]
  },
  {
   "cell_type": "markdown",
   "metadata": {},
   "source": [
    "# Load/Create Network and Generate Adversarial Data"
   ]
  },
  {
   "cell_type": "code",
   "execution_count": 4,
   "metadata": {},
   "outputs": [
    {
     "name": "stdout",
     "output_type": "stream",
     "text": [
      "Total Model Params: 1199882\n",
      "Loaded model from disk\n"
     ]
    }
   ],
   "source": [
    "#%%capture one\n",
    "#Load model from disk\n",
    "model_name = 'Fashion-MNIST-L2'\n",
    "model_save_path = '../trained_models/' + model_name + '-model.json'\n",
    "weights_save_path = '../trained_models/' + model_name + 'weights'\n",
    "model = CNN(model_name=model_name, dataset='fashion_mnist', transform='dct-matrix',seed=SEED,project=False)\n",
    "print ('Total Model Params: %d' % model.num_params)\n",
    "model.load_model(model_save_path, weights_save_path) \n",
    "#epochs = 20\n",
    "#model.train(epochs=epochs)\n",
    "#model.save_model(model_save_path, weights_save_path)    "
   ]
  },
  {
   "cell_type": "code",
   "execution_count": 4,
   "metadata": {},
   "outputs": [
    {
     "name": "stdout",
     "output_type": "stream",
     "text": [
      "10000/10000 [==============================] - 1s 91us/step\n",
      "Model Accuracy: 0.90320\n"
     ]
    }
   ],
   "source": [
    "#Model Accuracy\n",
    "print ('Model Accuracy: %.5f' % (model.model.evaluate(model.val_data, model.val_labels)[1]))"
   ]
  },
  {
   "cell_type": "code",
   "execution_count": 5,
   "metadata": {},
   "outputs": [],
   "source": [
    "%%capture two\n",
    "#Get training samples\n",
    "num_train_samples = 1000\n",
    "data_indices = model.gen_rand_indices(low=int(model.train_data.shape[0]/2), high=model.train_data.shape[0], seed=SEED, num_samples=num_train_samples)\n",
    "train_data = model.train_data[data_indices]\n",
    "train_data_labels = model.train_labels[data_indices]\n",
    "train_data_labels_int = np.argmax(train_data_labels, axis=1)"
   ]
  },
  {
   "cell_type": "markdown",
   "metadata": {},
   "source": [
    "**GREYBOX ATTACKS**"
   ]
  },
  {
   "cell_type": "code",
   "execution_count": 6,
   "metadata": {},
   "outputs": [],
   "source": [
    "%%capture three\n",
    "num_test_samples_per_class = 100\n",
    "num_test_samples = num_classes*num_test_samples_per_class\n",
    "\n",
    "#Generate test points\n",
    "test_indices = model.gen_rand_indices_all_classes(y=model.test_labels, seed=SEED, num_samples=num_test_samples_per_class)"
   ]
  },
  {
   "cell_type": "code",
   "execution_count": 7,
   "metadata": {
    "scrolled": true
   },
   "outputs": [
    {
     "name": "stdout",
     "output_type": "stream",
     "text": [
      "WARNING:tensorflow:From ../cleverhans/attacks.py:199: calling reduce_max (from tensorflow.python.ops.math_ops) with keep_dims is deprecated and will be removed in a future version.\n",
      "Instructions for updating:\n",
      "keep_dims is deprecated, use keepdims instead\n"
     ]
    }
   ],
   "source": [
    "%%capture four\n",
    "#Get Regular, JSMA, DF, and CW test points\n",
    "import time\n",
    "reg_data = model.test_data[test_indices]\n",
    "start_time = time.time()\n",
    "cwl2_data = model.generate_perturbed_data(model.test_data[test_indices], seed=SEED, perturbation='CW-l2')\n",
    "print(\"--- CW-l2: %s seconds ---\" % (time.time() - start_time))\n",
    "start_time = time.time()\n",
    "df_data = model.generate_perturbed_data(model.test_data[test_indices], model.test_labels[test_indices],seed=SEED, perturbation='DF', nb_candidate=num_classes)\n",
    "print(\"--- DF: %s seconds ---\" % (time.time() - start_time))"
   ]
  },
  {
   "cell_type": "code",
   "execution_count": 8,
   "metadata": {},
   "outputs": [],
   "source": [
    "#%%capture five\n",
    "#np.save('data/reg_data_fmnist_l2', reg_data)\n",
    "#np.save('data/cwl2_data_fmnist_l2', cwl2_data)\n",
    "#np.save('data/df_data_fmnist_l2', df_data)"
   ]
  },
  {
   "cell_type": "code",
   "execution_count": 8,
   "metadata": {},
   "outputs": [],
   "source": [
    "%%capture five\n",
    "reg_data = np.load('data/reg_data_fmnist_l2.npy')\n",
    "cwl2_data = np.load('data/cwl2_data_fmnist_l2.npy')\n",
    "df_data = np.load('data/df_data_fmnist_l2.npy')"
   ]
  },
  {
   "cell_type": "code",
   "execution_count": 9,
   "metadata": {},
   "outputs": [
    {
     "name": "stderr",
     "output_type": "stream",
     "text": [
      "../models/neural_network.py:135: ComplexWarning: Casting complex values to real discards the imaginary part\n",
      "  x_rec[i,:,:,0]= f_recon\n"
     ]
    },
    {
     "name": "stdout",
     "output_type": "stream",
     "text": [
      "Loaded model from disk\n"
     ]
    }
   ],
   "source": [
    "#Reset tf.graph() as Cleverhans modifies the graph\n",
    "tf.reset_default_graph()\n",
    "\n",
    "#Reload the model and weights\n",
    "model = CNN(model_name=model_name, dataset='fashion_mnist', transform='dct',seed=SEED)\n",
    "model.load_model(model_save_path, weights_save_path)    "
   ]
  },
  {
   "cell_type": "code",
   "execution_count": 9,
   "metadata": {},
   "outputs": [
    {
     "name": "stdout",
     "output_type": "stream",
     "text": [
      "1000/1000 [==============================] - 0s 190us/step\n",
      "Model Accuracy REG: 0.91700\n",
      "1000/1000 [==============================] - 0s 69us/step\n",
      "Model Accuracy CW-l2: 0.05400\n",
      "1000/1000 [==============================] - 0s 76us/step\n",
      "Model Accuracy DF: 0.05500\n"
     ]
    }
   ],
   "source": [
    "print ('Model Accuracy REG: %.5f' % (model.model.evaluate(reg_data,model.test_labels[test_indices])[1]))\n",
    "print ('Model Accuracy CW-l2: %.5f' % (model.model.evaluate(cwl2_data,model.test_labels[test_indices])[1]))\n",
    "print ('Model Accuracy DF: %.5f' % (model.model.evaluate(df_data,model.test_labels[test_indices])[1]))"
   ]
  },
  {
   "cell_type": "code",
   "execution_count": 11,
   "metadata": {},
   "outputs": [
    {
     "name": "stdout",
     "output_type": "stream",
     "text": [
      "Training Data: \n"
     ]
    },
    {
     "data": {
      "image/png": "[encoded data removed]",
      "text/plain": [
       "<Figure size 1080x1080 with 10 Axes>"
      ]
     },
     "metadata": {},
     "output_type": "display_data"
    }
   ],
   "source": [
    "#Lets visualize training data\n",
    "x_vis = np.random.choice(range(0,num_train_samples), 10)\n",
    "print ('Training Data: ')\n",
    "visualize(train_data[x_vis].reshape(-1,*input_shape), 10, '../figures/train-fmnist_l2')"
   ]
  },
  {
   "cell_type": "code",
   "execution_count": 10,
   "metadata": {},
   "outputs": [
    {
     "name": "stdout",
     "output_type": "stream",
     "text": [
      "Regular: \n"
     ]
    },
    {
     "data": {
      "image/png": "[encoded data removed]",
      "text/plain": [
       "<Figure size 1080x1080 with 10 Axes>"
      ]
     },
     "metadata": {},
     "output_type": "display_data"
    },
    {
     "name": "stdout",
     "output_type": "stream",
     "text": [
      "CW-l2: \n"
     ]
    },
    {
     "data": {
      "image/png": "[encoded data removed]",
      "text/plain": [
       "<Figure size 1080x1080 with 10 Axes>"
      ]
     },
     "metadata": {},
     "output_type": "display_data"
    },
    {
     "name": "stdout",
     "output_type": "stream",
     "text": [
      "DF: \n"
     ]
    },
    {
     "data": {
      "image/png": "[encoded data removed]",
      "text/plain": [
       "<Figure size 1080x1080 with 10 Axes>"
      ]
     },
     "metadata": {},
     "output_type": "display_data"
    }
   ],
   "source": [
    "#Lets visualize samples from each attack\n",
    "x_vis = np.random.choice(range(0,num_test_samples), 10)\n",
    "print ('Regular: ')\n",
    "visualize(reg_data[x_vis].reshape(-1,*input_shape), 10, '../figures/reg-fmnist_l2')\n",
    "print ('CW-l2: ')\n",
    "visualize(cwl2_data[x_vis].reshape(-1,*input_shape), 10, '../figures/cwl2-fmnist_l2')\n",
    "print ('DF: ')\n",
    "visualize(df_data[x_vis].reshape(-1,*input_shape), 10, '../figures/df-fmnist_l2')"
   ]
  },
  {
   "cell_type": "code",
   "execution_count": 11,
   "metadata": {},
   "outputs": [],
   "source": [
    "%%capture six\n",
    "#Get predictions\n",
    "reg_preds = model.model.predict(reg_data.reshape(-1,*input_shape))\n",
    "cwl2_preds = model.model.predict(cwl2_data.reshape(-1,*input_shape))\n",
    "df_preds = model.model.predict(df_data.reshape(-1,*input_shape))\n",
    "\n",
    "#Convert preds to labels\n",
    "reg_labels = preds_to_labels(reg_preds)\n",
    "cwl2_labels = preds_to_labels(cwl2_preds)\n",
    "df_labels = preds_to_labels(df_preds)\n",
    "\n",
    "#Select Adversarial Points (i.e. points that lead to misclassification)\n",
    "true_preds = np.argmax(model.test_labels[test_indices], axis=1)\n",
    "\n",
    "#Check which points are actually adversarial and select those\n",
    "cwl2_idx = np.where(np.argmax(cwl2_preds, axis=1) != true_preds)[0]\n",
    "df_idx = np.where(np.argmax(df_preds, axis=1) != true_preds)[0]\n",
    "\n",
    "\n",
    "#Filter data points to be used for similarity\n",
    "cwl2_data_fil = cwl2_data[cwl2_idx]\n",
    "df_data_fil = df_data[df_idx]\n",
    "\n",
    "\n",
    "#Filter labels to be used\n",
    "cwl2_labels_fil = cwl2_labels[cwl2_idx]\n",
    "df_labels_fil = df_labels[df_idx]"
   ]
  },
  {
   "cell_type": "code",
   "execution_count": 12,
   "metadata": {},
   "outputs": [
    {
     "name": "stdout",
     "output_type": "stream",
     "text": [
      "CW-l2: 0.61543\n",
      "DF: 0.63831\n"
     ]
    }
   ],
   "source": [
    "#Get l-2 distortion \n",
    "print ('CW-l2: %.5f' % (avg_l2_dist(reg_data[cwl2_idx], cwl2_data_fil)))\n",
    "print ('DF: %.5f' % (avg_l2_dist(reg_data[df_idx], df_data_fil)))"
   ]
  },
  {
   "cell_type": "code",
   "execution_count": 13,
   "metadata": {},
   "outputs": [
    {
     "name": "stdout",
     "output_type": "stream",
     "text": [
      "CW-l2: 472.00000\n",
      "DF: 569.00000\n"
     ]
    }
   ],
   "source": [
    "#Get l-0 distortion \n",
    "print ('CW-l2: %.5f' % (avg_l0_dist(reg_data[cwl2_idx], cwl2_data_fil)))\n",
    "print ('DF: %.5f' % (avg_l0_dist(reg_data[df_idx], df_data_fil)))"
   ]
  },
  {
   "cell_type": "code",
   "execution_count": 14,
   "metadata": {},
   "outputs": [
    {
     "name": "stdout",
     "output_type": "stream",
     "text": [
      "0.054004320009058575 0.18789981 0.00048509424\n"
     ]
    }
   ],
   "source": [
    "#Get Cwl2 norm difference\n",
    "avg=0.0\n",
    "ratios = []\n",
    "for i,j in enumerate(cwl2_idx):\n",
    "    r = np.linalg.norm(reg_data[j]-cwl2_data_fil[i])/np.linalg.norm(reg_data[j])\n",
    "    ratios.append(r)\n",
    "    avg+=r\n",
    "print(avg/1000, max(ratios), min(ratios))"
   ]
  },
  {
   "cell_type": "code",
   "execution_count": 15,
   "metadata": {},
   "outputs": [
    {
     "name": "stdout",
     "output_type": "stream",
     "text": [
      "0.05607169869515929 0.23346096 0.00016164794\n"
     ]
    }
   ],
   "source": [
    "#Get df norm difference\n",
    "avg=0.0\n",
    "ratios = []\n",
    "for i,j in enumerate(df_idx):\n",
    "    r = np.linalg.norm(reg_data[j]-df_data_fil[i])/np.linalg.norm(reg_data[j])\n",
    "    ratios.append(r)\n",
    "    avg+=r\n",
    "print(avg/1000, max(ratios), min(ratios))"
   ]
  },
  {
   "cell_type": "markdown",
   "metadata": {},
   "source": [
    "# BP Reconstruction\n",
    "To use multiprocessing, follow CIFAR-l0 notebook"
   ]
  },
  {
   "cell_type": "code",
   "execution_count": 16,
   "metadata": {},
   "outputs": [],
   "source": [
    "#Form the DCT matrix\n",
    "D = get_matrix(n=28*28)"
   ]
  },
  {
   "cell_type": "code",
   "execution_count": null,
   "metadata": {},
   "outputs": [],
   "source": [
    "%%capture seven\n",
    "#Reconstruct CW-l2\n",
    "clean_cwl2 = np.zeros(cwl2_data.shape)\n",
    "for i in range(num_test_samples):\n",
    "    x_adv = cwl2_data[i,:,:,0]\n",
    "    eta = np.linalg.norm(x_adv.flatten() - reg_data[i,:,:,0].flatten())\n",
    "    x_hat = socp(x_adv.flatten(),D.T,n=28*28,eta=eta)\n",
    "    x_hat = get_topk_vec(x_hat,k=40)\n",
    "    clean_cwl2[i,:,:,0] = np.dot(D.T,x_hat.flatten()).reshape(28,28)"
   ]
  },
  {
   "cell_type": "code",
   "execution_count": null,
   "metadata": {},
   "outputs": [],
   "source": [
    "%%capture eight\n",
    "#Reconstruct CW-l2\n",
    "clean_df = np.zeros(df_data.shape)\n",
    "for i in range(num_test_samples):\n",
    "    x_adv = df_data[i,:,:,0]\n",
    "    eta = np.linalg.norm(x_adv.flatten() - reg_data[i,:,:,0].flatten())\n",
    "    x_hat = socp(x_adv.flatten(),D.T,n=28*28,eta=eta)\n",
    "    x_hat = get_topk_vec(x_hat,k=40)\n",
    "    clean_df[i,:,:,0] = np.dot(D.T,x_hat.flatten()).reshape(28,28)"
   ]
  },
  {
   "cell_type": "code",
   "execution_count": null,
   "metadata": {},
   "outputs": [],
   "source": [
    "%%capture nine\n",
    "np.save('data/clean_fmnist_cwl2_l2', clean_cwl2)\n",
    "np.save('data/clean_fmnist_df_l2', clean_df)"
   ]
  },
  {
   "cell_type": "code",
   "execution_count": null,
   "metadata": {},
   "outputs": [],
   "source": [
    "clean_reg = np.zeros(df_data.shape)\n",
    "for i in range(num_test_samples):\n",
    "    x_adv = reg_data[i,:,:,0]\n",
    "    x_hat = np.dot(D,x_adv.flatten())\n",
    "    x_hat = get_topk_vec(x_hat,k=40)\n",
    "    clean_reg[i,:,:,0] = np.dot(D.T,x_hat.flatten()).reshape(28,28)"
   ]
  },
  {
   "cell_type": "code",
   "execution_count": null,
   "metadata": {},
   "outputs": [],
   "source": [
    "visualize(clean_reg[x_vis].reshape(-1,*input_shape), 10, '../figures/reg-test-clean-fmnist_l2')\n",
    "visualize(clean_cwl2[x_vis].reshape(-1,*input_shape), 10, '../figures/cwl2-clean-fmnist_l2')\n",
    "visualize(clean_df[x_vis].reshape(-1,*input_shape), 10, '../figures/df-clean-fmnist_l2')"
   ]
  },
  {
   "cell_type": "code",
   "execution_count": null,
   "metadata": {},
   "outputs": [],
   "source": [
    "print ('Model Accuracy Reconstructed CW-l2: %.5f' % (model.model.evaluate(clean_cwl2,model.test_labels[test_indices])[1]))\n",
    "print ('Model Accuracy Reconstructed DF: %.5f' % (model.model.evaluate(clean_df,model.test_labels[test_indices])[1]))"
   ]
  }
 ],
 "metadata": {
  "kernelspec": {
   "display_name": "Python 2",
   "language": "python",
   "name": "python2"
  },
  "language_info": {
   "codemirror_mode": {
    "name": "ipython",
    "version": 2
   },
   "file_extension": ".py",
   "mimetype": "text/x-python",
   "name": "python",
   "nbconvert_exporter": "python",
   "pygments_lexer": "ipython2",
   "version": "2.7.12"
  }
 },
 "nbformat": 4,
 "nbformat_minor": 2
}
