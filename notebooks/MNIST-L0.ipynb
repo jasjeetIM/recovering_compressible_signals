{
 "cells": [
  {
   "cell_type": "code",
   "execution_count": 1,
   "metadata": {},
   "outputs": [
    {
     "name": "stderr",
     "output_type": "stream",
     "text": [
      "/usr/local/lib/python2.7/dist-packages/h5py/__init__.py:36: FutureWarning: Conversion of the second argument of issubdtype from `float` to `np.floating` is deprecated. In future, it will be treated as `np.float64 == np.dtype(float).type`.\n",
      "  from ._conv import register_converters as _register_converters\n",
      "Using TensorFlow backend.\n"
     ]
    }
   ],
   "source": [
    "%load_ext autoreload\n",
    "%autoreload 2\n",
    "from __future__ import division\n",
    "from __future__ import print_function\n",
    "\n",
    "import sys, os, gc, math\n",
    "import tensorflow as tf\n",
    "import numpy as np\n",
    "from sklearn import linear_model\n",
    "from sklearn.metrics import roc_curve, auc\n",
    "from scipy.fftpack import dct,idct\n",
    "\n",
    "\n",
    "sys.path.append('../')\n",
    "os.environ[\"CUDA_VISIBLE_DEVICES\"] = \"0\"\n",
    "\n",
    "from models.neural_network import NeuralNetwork\n",
    "from models.cnn import CNN\n",
    "from models.util import *\n",
    "\n",
    "\n",
    "#Seed used for choosing classes, training points, and test points.\n",
    "#SEED = 14\n",
    "SEED=11"
   ]
  },
  {
   "cell_type": "code",
   "execution_count": 2,
   "metadata": {},
   "outputs": [],
   "source": [
    "#Define params of model\n",
    "input_shape = (28,28,1)\n",
    "num_classes = 10"
   ]
  },
  {
   "cell_type": "code",
   "execution_count": 3,
   "metadata": {
    "scrolled": true
   },
   "outputs": [
    {
     "name": "stderr",
     "output_type": "stream",
     "text": [
      "../models/neural_network.py:134: ComplexWarning: Casting complex values to real discards the imaginary part\n",
      "  x_rec[i,:,:,0]= f_recon\n"
     ]
    },
    {
     "name": "stdout",
     "output_type": "stream",
     "text": [
      "WARNING:tensorflow:From ../models/neural_network.py:332: softmax_cross_entropy_with_logits (from tensorflow.python.ops.nn_ops) is deprecated and will be removed in a future version.\n",
      "Instructions for updating:\n",
      "\n",
      "Future major versions of TensorFlow will allow gradients to flow\n",
      "into the labels input on backprop by default.\n",
      "\n",
      "See @{tf.nn.softmax_cross_entropy_with_logits_v2}.\n",
      "\n",
      "Total Model Params: 1199882\n",
      "Train on 120000 samples, validate on 10000 samples\n",
      "Epoch 1/20\n",
      "120000/120000 [==============================] - 8s 65us/step - loss: 0.2396 - acc: 0.9281 - val_loss: 0.0804 - val_acc: 0.9742\n",
      "Epoch 2/20\n",
      "120000/120000 [==============================] - 7s 56us/step - loss: 0.0953 - acc: 0.9721 - val_loss: 0.0507 - val_acc: 0.9838\n",
      "Epoch 3/20\n",
      "120000/120000 [==============================] - 7s 57us/step - loss: 0.0765 - acc: 0.9773 - val_loss: 0.0472 - val_acc: 0.9844\n",
      "Epoch 4/20\n",
      "120000/120000 [==============================] - 7s 57us/step - loss: 0.0648 - acc: 0.9805 - val_loss: 0.0434 - val_acc: 0.9853\n",
      "Epoch 5/20\n",
      "120000/120000 [==============================] - 7s 57us/step - loss: 0.0565 - acc: 0.9829 - val_loss: 0.0393 - val_acc: 0.9876\n",
      "Epoch 6/20\n",
      "120000/120000 [==============================] - 7s 56us/step - loss: 0.0529 - acc: 0.9843 - val_loss: 0.0309 - val_acc: 0.9892\n",
      "Epoch 7/20\n",
      "120000/120000 [==============================] - 7s 58us/step - loss: 0.0495 - acc: 0.9850 - val_loss: 0.0304 - val_acc: 0.9892\n",
      "Epoch 8/20\n",
      "120000/120000 [==============================] - 7s 57us/step - loss: 0.0459 - acc: 0.9861 - val_loss: 0.0306 - val_acc: 0.9902\n",
      "Epoch 9/20\n",
      "120000/120000 [==============================] - 11s 90us/step - loss: 0.0432 - acc: 0.9868 - val_loss: 0.0302 - val_acc: 0.9904\n",
      "Epoch 10/20\n",
      "120000/120000 [==============================] - 11s 90us/step - loss: 0.0401 - acc: 0.9875 - val_loss: 0.0283 - val_acc: 0.9906\n",
      "Epoch 11/20\n",
      "120000/120000 [==============================] - 11s 92us/step - loss: 0.0388 - acc: 0.9882 - val_loss: 0.0273 - val_acc: 0.9909\n",
      "Epoch 12/20\n",
      "120000/120000 [==============================] - 11s 93us/step - loss: 0.0368 - acc: 0.9888 - val_loss: 0.0296 - val_acc: 0.9899\n",
      "Epoch 13/20\n",
      "120000/120000 [==============================] - 11s 91us/step - loss: 0.0348 - acc: 0.9894 - val_loss: 0.0295 - val_acc: 0.9900\n",
      "Epoch 14/20\n",
      "120000/120000 [==============================] - 11s 92us/step - loss: 0.0346 - acc: 0.9892 - val_loss: 0.0301 - val_acc: 0.9902\n",
      "Epoch 15/20\n",
      "120000/120000 [==============================] - 11s 89us/step - loss: 0.0327 - acc: 0.9897 - val_loss: 0.0294 - val_acc: 0.9903\n",
      "Epoch 16/20\n",
      "120000/120000 [==============================] - 11s 91us/step - loss: 0.0325 - acc: 0.9901 - val_loss: 0.0284 - val_acc: 0.9898\n",
      "Epoch 17/20\n",
      "120000/120000 [==============================] - 11s 93us/step - loss: 0.0317 - acc: 0.9903 - val_loss: 0.0429 - val_acc: 0.9875\n",
      "Epoch 18/20\n",
      "120000/120000 [==============================] - 11s 93us/step - loss: 0.0311 - acc: 0.9904 - val_loss: 0.0290 - val_acc: 0.9910\n",
      "Epoch 19/20\n",
      "120000/120000 [==============================] - 11s 90us/step - loss: 0.0291 - acc: 0.9910 - val_loss: 0.0323 - val_acc: 0.9896\n",
      "Epoch 20/20\n",
      "120000/120000 [==============================] - 11s 91us/step - loss: 0.0281 - acc: 0.9911 - val_loss: 0.0286 - val_acc: 0.9914\n",
      "6073/6073 [==============================] - 0s 35us/step\n"
     ]
    }
   ],
   "source": [
    "#%%capture one\n",
    "#Load model from disk\n",
    "model_name = 'MNIST-L0'\n",
    "model_save_path = '../trained_models/' + model_name + '-model.json'\n",
    "weights_save_path = '../trained_models/' + model_name + 'weights'\n",
    "model = CNN(model_name=model_name, dataset='mnist', transform='dct',seed=SEED)\n",
    "print ('Total Model Params: %d' % model.num_params)\n",
    "#model.load_model(model_save_path, weights_save_path) \n",
    "epochs = 20\n",
    "model.train(epochs=epochs)\n",
    "#model.save_model(model_save_path, weights_save_path)    "
   ]
  },
  {
   "cell_type": "code",
   "execution_count": 4,
   "metadata": {},
   "outputs": [
    {
     "name": "stdout",
     "output_type": "stream",
     "text": [
      "10000/10000 [==============================] - 1s 96us/step\n",
      "Model Accuracy: 0.99140\n"
     ]
    }
   ],
   "source": [
    "#Model Accuracy\n",
    "print ('Model Accuracy: %.5f' % (model.model.evaluate(model.val_data, model.val_labels)[1]))"
   ]
  },
  {
   "cell_type": "code",
   "execution_count": 5,
   "metadata": {},
   "outputs": [],
   "source": [
    "%%capture two\n",
    "#Get training samples\n",
    "num_train_samples = 1000\n",
    "data_indices = model.gen_rand_indices(low=int(model.train_data.shape[0]/2), high=model.train_data.shape[0], seed=SEED, num_samples=num_train_samples)\n",
    "train_data = model.train_data[data_indices]\n",
    "train_data_labels = model.train_labels[data_indices]\n",
    "train_data_labels_int = np.argmax(train_data_labels, axis=1)"
   ]
  },
  {
   "cell_type": "markdown",
   "metadata": {},
   "source": [
    "**GREYBOX ATTACKS**"
   ]
  },
  {
   "cell_type": "code",
   "execution_count": 6,
   "metadata": {},
   "outputs": [],
   "source": [
    "%%capture three\n",
    "num_test_samples_per_class = 100\n",
    "num_test_samples = num_classes*num_test_samples_per_class\n",
    "\n",
    "#Generate test points\n",
    "test_indices = model.gen_rand_indices_all_classes(y=model.test_labels, seed=SEED, num_samples=num_test_samples_per_class)"
   ]
  },
  {
   "cell_type": "code",
   "execution_count": null,
   "metadata": {
    "scrolled": true
   },
   "outputs": [
    {
     "name": "stdout",
     "output_type": "stream",
     "text": [
      "WARNING:tensorflow:From ../cleverhans/attacks.py:199: calling reduce_max (from tensorflow.python.ops.math_ops) with keep_dims is deprecated and will be removed in a future version.\n",
      "Instructions for updating:\n",
      "keep_dims is deprecated, use keepdims instead\n"
     ]
    }
   ],
   "source": [
    "%%capture four\n",
    "import time\n",
    "#Get Regular, JSMA, DF, and CW test points\n",
    "reg_data = model.test_data[test_indices]\n",
    "start_time = time.time()\n",
    "jsma_data = model.generate_perturbed_data(model.test_data[test_indices], model.test_labels[test_indices], seed=SEED, perturbation='JSMA', iterations=100)\n",
    "print(\"--- JSMA: %s seconds ---\" % (time.time() - start_time))\n",
    "start_time = time.time()\n",
    "cwl0_data = model.generate_perturbed_data(model.test_data[test_indices], seed=SEED, perturbation='CW-l0')\n",
    "print(\"--- CW: %s seconds ---\" % (time.time() - start_time))"
   ]
  },
  {
   "cell_type": "code",
   "execution_count": null,
   "metadata": {},
   "outputs": [],
   "source": [
    "#%%capture five\n",
    "#reg_data = np.load('data/reg_data_mnist_dct_l0-socp.npy')\n",
    "#jsma_data = np.load('data/jsma_data_mnist_dct_l0-socp.npy')\n",
    "#cwl0_data = np.load('data/cwl0_data_mnist_dct_l0-socp.npy')\n"
   ]
  },
  {
   "cell_type": "code",
   "execution_count": null,
   "metadata": {},
   "outputs": [],
   "source": [
    "%%capture five\n",
    "np.save('data/reg_data_mnist_l0', reg_data)\n",
    "np.save('data/jsma_data_mnist_l0', jsma_data)\n",
    "np.save('data/cwl0_data_mnist_l0', cwl0_data)"
   ]
  },
  {
   "cell_type": "code",
   "execution_count": null,
   "metadata": {},
   "outputs": [],
   "source": [
    "%%capture temp\n",
    "model.save_model(model_save_path, weights_save_path)   "
   ]
  },
  {
   "cell_type": "code",
   "execution_count": null,
   "metadata": {},
   "outputs": [],
   "source": [
    "%%capture six\n",
    "#Reset tf.graph() as Cleverhans modifies the graph\n",
    "tf.reset_default_graph()\n",
    "\n",
    "#Reload the model and weights\n",
    "model = CNN(model_name=model_name, dataset='mnist',transform='dct-matrix', seed=SEED)\n",
    "model.load_model(model_save_path, weights_save_path)    "
   ]
  },
  {
   "cell_type": "code",
   "execution_count": 44,
   "metadata": {},
   "outputs": [
    {
     "name": "stdout",
     "output_type": "stream",
     "text": [
      "1000/1000 [==============================] - 0s 96us/step\n",
      "Model Accuracy REG: 0.98500\n",
      "1000/1000 [==============================] - 0s 84us/step\n",
      "Model Accuracy CW-l0: 0.01300\n",
      "1000/1000 [==============================] - 0s 71us/step\n",
      "Model Accuracy JSMA: 0.61000\n"
     ]
    }
   ],
   "source": [
    "print ('Model Accuracy REG: %.5f' % (model.model.evaluate(reg_data,model.test_labels[test_indices])[1]))\n",
    "print ('Model Accuracy CW-l0: %.5f' % (model.model.evaluate(cwl0_data,model.test_labels[test_indices])[1]))\n",
    "print ('Model Accuracy JSMA: %.5f' % (model.model.evaluate(jsma_data,model.test_labels[test_indices])[1]))"
   ]
  },
  {
   "cell_type": "code",
   "execution_count": 45,
   "metadata": {},
   "outputs": [
    {
     "name": "stdout",
     "output_type": "stream",
     "text": [
      "Training Data: \n"
     ]
    },
    {
     "data": {
      "image/png": "[encoded data removed]",
      "text/plain": [
       "<Figure size 1080x1080 with 10 Axes>"
      ]
     },
     "metadata": {},
     "output_type": "display_data"
    }
   ],
   "source": [
    "#Lets visualize training data\n",
    "x_vis = np.random.choice(range(0,num_train_samples), 10)\n",
    "print ('Training Data: ')\n",
    "visualize(train_data[x_vis].reshape(-1,*input_shape), 10, '../figures/train-mnist_l0')"
   ]
  },
  {
   "cell_type": "code",
   "execution_count": 43,
   "metadata": {},
   "outputs": [
    {
     "name": "stdout",
     "output_type": "stream",
     "text": [
      "Regular: \n"
     ]
    },
    {
     "data": {
      "image/png": "[encoded data removed]",
      "text/plain": [
       "<Figure size 1080x1080 with 10 Axes>"
      ]
     },
     "metadata": {},
     "output_type": "display_data"
    },
    {
     "name": "stdout",
     "output_type": "stream",
     "text": [
      "CW-l0: \n"
     ]
    },
    {
     "data": {
      "image/png": "[encoded data removed]",
      "text/plain": [
       "<Figure size 1080x1080 with 10 Axes>"
      ]
     },
     "metadata": {},
     "output_type": "display_data"
    },
    {
     "name": "stdout",
     "output_type": "stream",
     "text": [
      "JSMA: \n"
     ]
    },
    {
     "data": {
      "image/png": "[encoded data removed]",
      "text/plain": [
       "<Figure size 1080x1080 with 10 Axes>"
      ]
     },
     "metadata": {},
     "output_type": "display_data"
    }
   ],
   "source": [
    "#Lets visualize samples from each attack\n",
    "x_vis = np.random.choice(range(0,num_test_samples), 10)\n",
    "print ('Regular: ')\n",
    "visualize(reg_data[x_vis].reshape(-1,*input_shape), 10, '../figures/reg-mnist_l0')\n",
    "print ('CW-l0: ')\n",
    "visualize(cwl0_data[x_vis].reshape(-1,*input_shape), 10, '../figures/cwl0-mnist_l0')\n",
    "print ('JSMA: ')\n",
    "visualize(jsma_data[x_vis].reshape(-1,*input_shape), 10, '../figures/jsma-mnist_l0')"
   ]
  },
  {
   "cell_type": "code",
   "execution_count": null,
   "metadata": {},
   "outputs": [],
   "source": [
    "%%capture seven\n",
    "#Get predictions\n",
    "reg_preds = model.model.predict(reg_data.reshape(-1,*input_shape))\n",
    "cwl0_preds = model.model.predict(cwl0_data.reshape(-1,*input_shape))\n",
    "jsma_preds = model.model.predict(jsma_data.reshape(-1,*input_shape))\n",
    "\n",
    "#Convert preds to labels\n",
    "reg_labels = preds_to_labels(reg_preds)\n",
    "cwl0_labels = preds_to_labels(cwl0_preds)\n",
    "jsma_labels = preds_to_labels(jsma_preds)\n",
    "\n",
    "#Select Adversarial Points (i.e. points that lead to misclassification)\n",
    "true_preds = np.argmax(model.test_labels[test_indices], axis=1)\n",
    "\n",
    "#Check which points are actually adversarial and select those\n",
    "cwl0_idx = np.where(np.argmax(cwl0_preds, axis=1) != true_preds)[0]\n",
    "jsma_idx = np.where(np.argmax(jsma_preds, axis=1) != true_preds)[0]\n",
    "\n",
    "\n",
    "#Filter data points to be used for similarity\n",
    "cwl0_data_fil = cwl0_data[cwl0_idx]\n",
    "jsma_data_fil = jsma_data[jsma_idx]\n",
    "\n",
    "\n",
    "#Filter labels to be used\n",
    "cwl0_labels_fil = cwl0_labels[cwl0_idx]\n",
    "jsma_labels_fil = jsma_labels[jsma_idx]"
   ]
  },
  {
   "cell_type": "code",
   "execution_count": 31,
   "metadata": {},
   "outputs": [
    {
     "name": "stdout",
     "output_type": "stream",
     "text": [
      "CW-l0: 15.00000\n",
      "JSMA: 17.00000\n"
     ]
    }
   ],
   "source": [
    "#Get l-0 distortion \n",
    "print ('CW-l0: %.5f' % (avg_l0_dist(reg_data[cwl0_idx], cwl0_data_fil)))\n",
    "print ('JSMA: %.5f' % (avg_l0_dist(reg_data[jsma_idx], jsma_data_fil)))"
   ]
  },
  {
   "cell_type": "code",
   "execution_count": 27,
   "metadata": {},
   "outputs": [],
   "source": [
    "#Form the DCT matrix\n",
    "D = np.zeros((784,784))\n",
    "for p in range(784):\n",
    "    for q in range(784):\n",
    "        if p == 0:\n",
    "            D[p,q] = 1/np.sqrt(784.0)\n",
    "        else:\n",
    "            D[p,q] = np.sqrt(2/784.0)*(  math.cos(  (math.pi*(2*q + 1)*p) / (2*784.0)   )    )\n",
    "        "
   ]
  },
  {
   "cell_type": "code",
   "execution_count": 25,
   "metadata": {},
   "outputs": [],
   "source": [
    "def iht_t_mat(y,img,t,D, T=100,k=40):\n",
    "    x_hat = np.zeros(y.shape) \n",
    "    e_hat = np.zeros(y.shape)\n",
    "    for i in range(T):\n",
    "        x_hat,_ = get_top_bot_k_vec(np.dot(D,(y - e_hat)), k)\n",
    "        e_hat,_ = get_top_bot_k_vec(y - np.dot(D.T,x_hat), t)  \n",
    "    return x_hat"
   ]
  },
  {
   "cell_type": "code",
   "execution_count": 26,
   "metadata": {},
   "outputs": [],
   "source": [
    "def get_top_and_bot_k(X,k):\n",
    "    idx = bn.argpartition(X, X.size-k, axis=None)[-k:]\n",
    "    width = X.shape[1]\n",
    "    idx = np.array([divmod(i, width) for i in idx])\n",
    "    top = np.zeros((X.shape)) + 1j*0\n",
    "    top[idx[:,0],idx[:,1]] = X[idx[:,0],idx[:,1]]\n",
    "    bot = X - top\n",
    "         \n",
    "    return top,bot\n",
    "\n",
    "\n",
    "def get_top_bot_k_vec(x,k):\n",
    "    ind = np.argpartition(x, -k)[-k:]\n",
    "    temp = np.zeros(x.shape)\n",
    "    temp[ind] = x[ind]\n",
    "    return temp, x - temp"
   ]
  },
  {
   "cell_type": "code",
   "execution_count": 28,
   "metadata": {},
   "outputs": [],
   "source": [
    "def get_topk_vec(x,k):\n",
    "    ind = np.argpartition(x, -k)[-k:]\n",
    "    temp = np.zeros(x.shape)\n",
    "    temp[ind] = x[ind]\n",
    "    return temp"
   ]
  },
  {
   "cell_type": "code",
   "execution_count": 38,
   "metadata": {},
   "outputs": [],
   "source": [
    "clean_reg = np.zeros(jsma_data.shape)\n",
    "for i in range(num_test_samples):\n",
    "    x_adv = reg_data[i,:,:,0]\n",
    "    x_hat = np.dot(D,x_adv.flatten())\n",
    "    x_hat = get_topk_vec(x_hat,k=40)\n",
    "    clean_reg[i,:,:,0] = np.dot(D.T,x_hat.flatten()).reshape(28,28)"
   ]
  },
  {
   "cell_type": "code",
   "execution_count": 29,
   "metadata": {},
   "outputs": [
    {
     "name": "stdout",
     "output_type": "stream",
     "text": [
      "0.2775352787140291 0.64378196 0.00273417\n"
     ]
    }
   ],
   "source": [
    "avg=0.0\n",
    "ratios = []\n",
    "for i,j in enumerate(cwl0_idx):\n",
    "    r = np.linalg.norm(reg_data[j]-cwl0_data_fil[i])/np.linalg.norm(reg_data[j])\n",
    "    ratios.append(r)\n",
    "    avg+=r\n",
    "print(avg/1000, max(ratios), min(ratios))"
   ]
  },
  {
   "cell_type": "code",
   "execution_count": 30,
   "metadata": {},
   "outputs": [
    {
     "name": "stdout",
     "output_type": "stream",
     "text": [
      "0.17909327398240565 0.90283996 0.110192336\n"
     ]
    }
   ],
   "source": [
    "avg=0.0\n",
    "ratios = []\n",
    "for i,j in enumerate(jsma_idx):\n",
    "    r = np.linalg.norm(reg_data[j]-jsma_data_fil[i])/np.linalg.norm(reg_data[j])\n",
    "    ratios.append(r)\n",
    "    avg+=r\n",
    "print(avg/1000, max(ratios), min(ratios))"
   ]
  },
  {
   "cell_type": "code",
   "execution_count": 32,
   "metadata": {},
   "outputs": [],
   "source": [
    "%%capture eleven\n",
    "#Reconstruct CW-l0\n",
    "t=20\n",
    "clean_cwl0_iht = np.zeros(cwl0_data.shape)\n",
    "for i in range(num_test_samples):\n",
    "    x_adv = cwl0_data[i,:,:,0].flatten()\n",
    "    x_hat = iht_t_mat(x_adv,reg_data[i,:,:,0].flatten(), t, D, T=100,k=40)\n",
    "    clean_cwl0_iht[i,:,:,0]= np.dot(D.T,x_hat.flatten()).reshape(28,28)"
   ]
  },
  {
   "cell_type": "code",
   "execution_count": 33,
   "metadata": {},
   "outputs": [],
   "source": [
    "#%%capture twelve\n",
    "#Reconstruct JSMA-l0\n",
    "t=20\n",
    "clean_jsma_iht = np.zeros(jsma_data.shape)\n",
    "for i in range(num_test_samples):\n",
    "    x_adv = jsma_data[i,:,:,0].flatten()\n",
    "    x_hat = iht_t_mat(x_adv,reg_data[i,:,:,0].flatten(), t, D, T=100,k=40)\n",
    "    clean_jsma_iht[i,:,:,0]= np.dot(D.T,x_hat.flatten()).reshape(28,28)"
   ]
  },
  {
   "cell_type": "code",
   "execution_count": 34,
   "metadata": {},
   "outputs": [],
   "source": [
    "%%capture thirteen\n",
    "np.save('data/clean_mnist_cwl0_dct_l0-iht', clean_cwl0_iht)\n",
    "np.save('data/clean_mnist_jsma_dct_l0-iht', clean_jsma_iht)"
   ]
  },
  {
   "cell_type": "code",
   "execution_count": 41,
   "metadata": {},
   "outputs": [],
   "source": [
    "x_vis = np.random.choice(range(0,num_test_samples), 10)\n",
    "\n"
   ]
  },
  {
   "cell_type": "code",
   "execution_count": 42,
   "metadata": {},
   "outputs": [
    {
     "data": {
      "image/png": "[encoded data removed]",
      "text/plain": [
       "<Figure size 1080x1080 with 10 Axes>"
      ]
     },
     "metadata": {},
     "output_type": "display_data"
    },
    {
     "data": {
      "image/png": "[encoded data removed]",
      "text/plain": [
       "<Figure size 1080x1080 with 10 Axes>"
      ]
     },
     "metadata": {},
     "output_type": "display_data"
    },
    {
     "data": {
      "image/png": "[encoded data removed]",
      "text/plain": [
       "<Figure size 1080x1080 with 10 Axes>"
      ]
     },
     "metadata": {},
     "output_type": "display_data"
    }
   ],
   "source": [
    "visualize(clean_reg[x_vis].reshape(-1,*input_shape), 10, '../figures/reg-test-mnist_l0')\n",
    "visualize(clean_cwl0_iht[x_vis].reshape(-1,*input_shape), 10, '../figures/cwl0-clean-mnist_l0-iht')\n",
    "visualize(clean_jsma_iht[x_vis].reshape(-1,*input_shape), 10, '../figures/jsma-clean-mnist_l0-iht')"
   ]
  },
  {
   "cell_type": "code",
   "execution_count": 36,
   "metadata": {},
   "outputs": [
    {
     "name": "stdout",
     "output_type": "stream",
     "text": [
      "1000/1000 [==============================] - 0s 70us/step\n",
      "Model Accuracy Reconstructed CW-l0: 0.72700\n",
      "1000/1000 [==============================] - 0s 62us/step\n",
      "Model Accuracy Reconstructed JSMA: 0.91400\n"
     ]
    }
   ],
   "source": [
    "print ('Model Accuracy Reconstructed CW-l0: %.5f' % (model.model.evaluate(clean_cwl0_iht,model.test_labels[test_indices])[1]))\n",
    "print ('Model Accuracy Reconstructed JSMA: %.5f' % (model.model.evaluate(clean_jsma_iht,model.test_labels[test_indices])[1]))"
   ]
  }
 ],
 "metadata": {
  "kernelspec": {
   "display_name": "Python 2",
   "language": "python",
   "name": "python2"
  },
  "language_info": {
   "codemirror_mode": {
    "name": "ipython",
    "version": 2
   },
   "file_extension": ".py",
   "mimetype": "text/x-python",
   "name": "python",
   "nbconvert_exporter": "python",
   "pygments_lexer": "ipython2",
   "version": "2.7.12"
  }
 },
 "nbformat": 4,
 "nbformat_minor": 2
}
