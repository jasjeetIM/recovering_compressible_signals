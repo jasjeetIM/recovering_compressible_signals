{
 "cells": [
  {
   "cell_type": "markdown",
   "metadata": {},
   "source": [
    "# IHT Experiments to verify theory L-0 Norm - F-MNIST"
   ]
  },
  {
   "cell_type": "code",
   "execution_count": 1,
   "metadata": {},
   "outputs": [
    {
     "name": "stderr",
     "output_type": "stream",
     "text": [
      "/usr/local/lib/python2.7/dist-packages/h5py/__init__.py:36: FutureWarning: Conversion of the second argument of issubdtype from `float` to `np.floating` is deprecated. In future, it will be treated as `np.float64 == np.dtype(float).type`.\n",
      "  from ._conv import register_converters as _register_converters\n",
      "Using TensorFlow backend.\n"
     ]
    }
   ],
   "source": [
    "%load_ext autoreload\n",
    "%autoreload 2\n",
    "from __future__ import division\n",
    "from __future__ import print_function\n",
    "\n",
    "import sys, os, gc, math\n",
    "import numpy as np\n",
    "from scipy.fftpack import dct,idct\n",
    "from keras.datasets import mnist, fashion_mnist\n",
    "from PIL import Image\n",
    "\n",
    "\n",
    "sys.path.append('../')\n",
    "\n",
    "from models.util import *\n",
    "\n",
    "\n",
    "#Seed used for choosing classes, training points, and test points.\n",
    "#SEED = 14\n",
    "SEED=11"
   ]
  },
  {
   "cell_type": "code",
   "execution_count": 2,
   "metadata": {},
   "outputs": [],
   "source": [
    "num_samples = 500\n",
    "sqrt_n = 28\n",
    "input_shape=(sqrt_n,sqrt_n,1)\n",
    "n = sqrt_n*sqrt_n\n",
    "k = 4\n",
    "c=2.0"
   ]
  },
  {
   "cell_type": "code",
   "execution_count": 3,
   "metadata": {},
   "outputs": [],
   "source": [
    "#Load F-MNIST data\n",
    "(X_train, _), (X_test, _) = fashion_mnist.load_data()\n",
    "X_train = X_train.reshape(-1, 28, 28, 1)\n",
    "X_test = X_test.reshape(-1, 28, 28, 1)\n",
    "\n",
    "fm_data = np.concatenate((X_train,X_test),axis=0)"
   ]
  },
  {
   "cell_type": "code",
   "execution_count": 4,
   "metadata": {},
   "outputs": [],
   "source": [
    "#Normalize the data\n",
    "fm_data = fm_data/255.0"
   ]
  },
  {
   "cell_type": "code",
   "execution_count": 5,
   "metadata": {},
   "outputs": [
    {
     "name": "stdout",
     "output_type": "stream",
     "text": [
      "Noise budget of 3\n"
     ]
    }
   ],
   "source": [
    "#Check FMNIST results for 1000 random images\n",
    "#Check Cifar10 results for 500 random images - BP\n",
    "t = int(float(n)/27.0/k/c)\n",
    "print('Noise budget of %d' % t)\n",
    "subset_idx = np.random.choice(np.arange(fm_data.shape[0]),num_samples)\n",
    "fm_data_sub = fm_data[subset_idx]\n",
    "fm_data_y = np.zeros((num_samples,sqrt_n,sqrt_n))\n",
    "ft_values = np.zeros(num_samples)\n",
    "for i in range(num_samples):\n",
    "    #first sample an element from the data\n",
    "    x = fm_data_sub[i,:,:,0].flatten()\n",
    "    #Now sample a t - must be atleast 1\n",
    "    t_l = np.random.randint(1,t)\n",
    "    ft_values[i] = t_l\n",
    "    #Now samnple the an index set from [n] with cardinality = t_l\n",
    "    s = np.random.choice(np.arange(n),t_l)\n",
    "    e = np.zeros(n)\n",
    "    #Now create the vector e\n",
    "    #pick a value for each element between 0 and 1 as the images are normalized\n",
    "    for j in range(t_l):\n",
    "        e[s[j]] = np.random.uniform()\n",
    "    y = x + e\n",
    "    fm_data_y[i,:,:] = y.reshape((sqrt_n,sqrt_n))        "
   ]
  },
  {
   "cell_type": "markdown",
   "metadata": {},
   "source": [
    "# Get \\delta_p and \\Delta_p"
   ]
  },
  {
   "cell_type": "code",
   "execution_count": 6,
   "metadata": {},
   "outputs": [],
   "source": [
    "%%capture two\n",
    "ferrors_l2 = np.zeros(fm_data_y.shape[0])\n",
    "ferrors_inf = np.zeros(fm_data_y.shape[0])\n",
    "fbot_l2 = np.zeros(fm_data_y.shape[0])\n",
    "ftau = np.zeros(fm_data_y.shape[0])\n",
    "fdiff_l2 = np.zeros(fm_data_y.shape[0])\n",
    "fdiff_inf = np.zeros(fm_data_y.shape[0])\n",
    "fT_values = np.zeros(fm_data_y.shape[0])\n",
    "\n",
    "for i in range(num_samples):\n",
    "    y = fm_data_y[i,:,:].flatten()\n",
    "    x = fm_data_sub[i,:,:].flatten()\n",
    "    \n",
    "    #Get actual top k and bottom k\n",
    "    x_hat_top_k, x_hat_bot_k =  get_top_bot_k_vec(dct(x, norm='ortho'),k=k)\n",
    "    #Now we need to calculate T\n",
    "    e = y - x \n",
    "    #Get the constant that we need to set to zero as a function of T\n",
    "    a = np.sqrt(np.linalg.norm(x_hat_top_k)**2 + np.linalg.norm(e)**2)\n",
    "    #Lets get rho\n",
    "    rho = np.sqrt(27)*np.sqrt((c*k*ft_values[i])/float(n))\n",
    "    \n",
    "    #We want to find a T such that rho^T a is very small - we use 1e-20 \n",
    "    T = int((np.log(1e-20) - np.log(a))/np.log(rho))\n",
    "    fT_values[i] = T\n",
    "    #Get top k approx\n",
    "    x_hat_approx,e_hat_approx = iht(y,int(ft_values[i]),T=T,k=k)\n",
    "    \n",
    "    #Note the errors\n",
    "    ferrors_l2[i] = np.linalg.norm(x_hat_top_k.flatten()- x_hat_approx.flatten())\n",
    "    ferrors_inf[i] = np.linalg.norm(x_hat_top_k.flatten()- x_hat_approx.flatten(), ord=np.inf)\n",
    "\n",
    "    #Note the norm of bottom k coefficients\n",
    "    fbot_l2[i] = np.linalg.norm(x_hat_bot_k)\n",
    "\n",
    "    #Get the multiplicative constant\n",
    "    c_l2 = np.sqrt((4*k*c*ft_values[i])/n)\n",
    "    c_inf = np.sqrt((2*c*ft_values[i])/n)\n",
    "    #Calculate tau\n",
    "    ftau[i] = (np.sqrt(3)*np.sqrt(1 + 2*np.sqrt((k*c*ft_values[i])/n))/(1-rho))\n",
    "    \n",
    "    #Calculate the difference from the upper bound\n",
    "    fdiff_l2[i] = (c_l2*ftau[i]*fbot_l2[i]) - ferrors_l2[i] \n",
    "    fdiff_inf[i] = (c_inf*ftau[i]*fbot_l2[i]) - ferrors_inf[i]"
   ]
  },
  {
   "cell_type": "code",
   "execution_count": 7,
   "metadata": {},
   "outputs": [
    {
     "name": "stdout",
     "output_type": "stream",
     "text": [
      "1.468 5.693143134158139 0.1434396591047507 8.273905988923092 0.10299919985554525 2.8729818938002363\n"
     ]
    }
   ],
   "source": [
    "print(np.mean(ft_values), \n",
    "      np.mean(ftau), \n",
    "      np.mean(ferrors_l2), \n",
    "      np.mean(fdiff_l2), \n",
    "      np.mean(ferrors_inf), \n",
    "      np.mean(fdiff_inf))"
   ]
  },
  {
   "cell_type": "code",
   "execution_count": 8,
   "metadata": {},
   "outputs": [],
   "source": [
    "fmnist_tup = (fm_data_y, fm_data_sub, ft_values,ftau,ferrors_l2, ferrors_inf, fdiff_l2, fdiff_inf )\n",
    "\n",
    "import pickle\n",
    "\n",
    "with open('data/fmnist_tuple_theory.pickle', 'wb') as f:\n",
    "    pickle.dump(fmnist_tup, f)"
   ]
  }
 ],
 "metadata": {
  "kernelspec": {
   "display_name": "Python 2",
   "language": "python",
   "name": "python2"
  },
  "language_info": {
   "codemirror_mode": {
    "name": "ipython",
    "version": 2
   },
   "file_extension": ".py",
   "mimetype": "text/x-python",
   "name": "python",
   "nbconvert_exporter": "python",
   "pygments_lexer": "ipython2",
   "version": "2.7.12"
  }
 },
 "nbformat": 4,
 "nbformat_minor": 2
}
