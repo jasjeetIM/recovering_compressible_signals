{
 "cells": [
  {
   "cell_type": "code",
   "execution_count": 1,
   "metadata": {},
   "outputs": [
    {
     "name": "stderr",
     "output_type": "stream",
     "text": [
      "/usr/local/lib/python2.7/dist-packages/h5py/__init__.py:36: FutureWarning: Conversion of the second argument of issubdtype from `float` to `np.floating` is deprecated. In future, it will be treated as `np.float64 == np.dtype(float).type`.\n",
      "  from ._conv import register_converters as _register_converters\n",
      "Using TensorFlow backend.\n"
     ]
    }
   ],
   "source": [
    "%load_ext autoreload\n",
    "%autoreload 2\n",
    "from __future__ import division\n",
    "from __future__ import print_function\n",
    "\n",
    "import sys, os, gc, math\n",
    "import numpy as np\n",
    "from scipy.fftpack import dct,idct\n",
    "from keras.datasets import mnist, fashion_mnist\n",
    "from PIL import Image\n",
    "\n",
    "\n",
    "sys.path.append('../')\n",
    "\n",
    "from models.util import *\n",
    "\n",
    "\n",
    "#Seed used for choosing classes, training points, and test points.\n",
    "#SEED = 14\n",
    "SEED=11"
   ]
  },
  {
   "cell_type": "code",
   "execution_count": 2,
   "metadata": {},
   "outputs": [],
   "source": [
    "num_samples = 500\n",
    "sqrt_n = 28\n",
    "input_shape=(sqrt_n,sqrt_n,1)\n",
    "n = sqrt_n*sqrt_n\n",
    "k = 6\n",
    "c=2.0"
   ]
  },
  {
   "cell_type": "code",
   "execution_count": 3,
   "metadata": {
    "scrolled": true
   },
   "outputs": [],
   "source": [
    "#Load MNIST data\n",
    "(X_train, _), (X_test, _) = fashion_mnist.load_data()\n",
    "X_train = X_train.reshape(-1, 28, 28, 1)\n",
    "X_test = X_test.reshape(-1, 28, 28, 1)\n",
    "\n",
    "m_data = np.concatenate((X_train,X_test))"
   ]
  },
  {
   "cell_type": "code",
   "execution_count": 4,
   "metadata": {},
   "outputs": [],
   "source": [
    "#Normalize the data\n",
    "m_data = m_data/255.0"
   ]
  },
  {
   "cell_type": "code",
   "execution_count": 5,
   "metadata": {},
   "outputs": [],
   "source": [
    "#Check MNIST results for 1000 random images - BP\n",
    "#n=40000, k=40, t <= 16/41 * n / k / 6 ~ 65.03\n",
    "t = int(16*n/41.0/4.0/k/c)\n",
    "subset_idx = np.random.choice(np.arange(m_data.shape[0]),num_samples)\n",
    "m_data_sub_bp = m_data[subset_idx]\n",
    "m_data_y_bp = np.zeros((num_samples,sqrt_n,sqrt_n))\n",
    "t_values_bp = np.zeros(num_samples)\n",
    "for i in range(num_samples):\n",
    "    #first sample an element from the data\n",
    "    x = m_data_sub_bp[i,:,:,0].flatten()\n",
    "    #Now sample a t - must be atleast 1\n",
    "    t_l = np.random.randint(1,t)\n",
    "    t_values_bp[i] = t_l\n",
    "    #Now samnple the an index set from [n] with cardinality = t_l\n",
    "    s = np.random.choice(np.arange(n),t_l)\n",
    "    e = np.zeros(n)\n",
    "    #Now create the vector e\n",
    "    #pick a value for each element between 0 and 1 as the images are normalized\n",
    "    for j in range(t_l):\n",
    "        e[s[j]] = np.random.uniform()\n",
    "    y = x + e\n",
    "    m_data_y_bp[i,:,:] = y.reshape((sqrt_n,sqrt_n))  "
   ]
  },
  {
   "cell_type": "code",
   "execution_count": 6,
   "metadata": {},
   "outputs": [],
   "source": [
    "#Form the matrix F\n",
    "F = get_matrix(n,tf='dct')"
   ]
  },
  {
   "cell_type": "code",
   "execution_count": null,
   "metadata": {},
   "outputs": [],
   "source": [
    "%%capture three\n",
    "#BP MNIST\n",
    "errors_l2_bp = np.zeros(m_data_y_bp.shape[0])\n",
    "errors_l1_bp = np.zeros(m_data_y_bp.shape[0])\n",
    "bot_l2_bp = np.zeros(m_data_y_bp.shape[0])\n",
    "tau_bp = np.zeros(m_data_y_bp.shape[0])\n",
    "diff_l2_bp = np.zeros(m_data_y_bp.shape[0])\n",
    "diff_l1_bp = np.zeros(m_data_y_bp.shape[0])\n",
    "\n",
    "for i in range(num_samples):\n",
    "    y = m_data_y_bp[i,:,:].flatten()\n",
    "    x = m_data_sub_bp[i,:,:].flatten()\n",
    "    \n",
    "    #Get actual top k and bottom k (we use the faster transform which may introduce some error)\n",
    "    x_hat_top_k, x_hat_bot_k =  get_top_bot_k_vec(dct(x, norm='ortho'),k=k)    \n",
    "    e = y - x \n",
    "    bot_l2_bp[i] = np.linalg.norm(x_hat_bot_k)\n",
    "    eta = bot_l2_bp[i]\n",
    "    I = np.identity(n)\n",
    "    A = np.concatenate((F.T,I), axis=1)\n",
    "    x_hat_approx = socp(y,A,n=2*n,eta=eta)[:n]\n",
    "    x_hat_approx_top_k = get_topk_vec(x_hat_approx,k=k)\n",
    "\n",
    "    \n",
    "    #Get rho and tau\n",
    "    delta_2 = np.sqrt(4.0*c*k*t_values_bp[i]/float(n))\n",
    "    rho = delta_2/(np.sqrt(1 - delta_2**2) - delta_2/4.0)\n",
    "\n",
    "    tau = np.sqrt(1 + delta_2)/(np.sqrt(1 - delta_2**2) - delta_2/4.0)\n",
    "    tau_bp[i] = tau\n",
    "    \n",
    "    \n",
    "    #Note the errors\n",
    "    errors_l2_bp[i] = np.linalg.norm(x_hat_top_k.flatten()- x_hat_approx.flatten())\n",
    "    errors_l1_bp[i] = np.linalg.norm(x_hat_top_k.flatten()- x_hat_approx.flatten(), ord=1)\n",
    "\n",
    "\n",
    "\n",
    "\n",
    "    #Get the multiplicative constant\n",
    "    c_l2 = ( tau* (3 + rho*(2*np.sqrt(k+t_values_bp[i]) -1) ))/(1-rho)\n",
    "    c_l1 = (2*tau*np.sqrt(k + t_values_bp[i]))/(1-rho)\n",
    "    \n",
    "    \n",
    "    #Calculate the difference from the upper bound\n",
    "    diff_l2_bp[i] = (c_l2*bot_l2_bp[i]) - errors_l2_bp[i] \n",
    "    diff_l1_bp[i] = (c_l1*bot_l2_bp[i]) - errors_l1_bp[i]\n",
    "    if diff_l2_bp[i] < 0:\n",
    "        print (diff_l2_bp[i])\n",
    "    if diff_l1_bp[i] < 0:\n",
    "        print (diff_l1_bp[i])"
   ]
  },
  {
   "cell_type": "code",
   "execution_count": 13,
   "metadata": {},
   "outputs": [
    {
     "name": "stdout",
     "output_type": "stream",
     "text": [
      "2.964 1.501730171459867 5.579348501136094 207.57804197768274 14.090147039922611 193.75618782133768\n"
     ]
    }
   ],
   "source": [
    "print(np.mean(t_values_bp), \n",
    "      np.mean(tau_bp), \n",
    "      np.mean(errors_l2_bp), \n",
    "      np.mean(diff_l2_bp), \n",
    "      np.mean(errors_l1_bp), \n",
    "      np.mean(diff_l1_bp))"
   ]
  },
  {
   "cell_type": "code",
   "execution_count": null,
   "metadata": {},
   "outputs": [],
   "source": [
    "mnist_tup_bp = (m_data_y_bp, m_data_sub_bp, t_values_bp,tau_bp,errors_l2_bp, errors_l1_bp, diff_l2_bp, diff_l1_bp )\n",
    "\n",
    "import pickle\n",
    "with open('data/fmnist_theory_socp_l0.pickle', 'wb') as f:\n",
    "    pickle.dump(mnist_tup_bp, f)\n"
   ]
  },
  {
   "cell_type": "code",
   "execution_count": null,
   "metadata": {},
   "outputs": [],
   "source": []
  }
 ],
 "metadata": {
  "kernelspec": {
   "display_name": "Python 2",
   "language": "python",
   "name": "python2"
  },
  "language_info": {
   "codemirror_mode": {
    "name": "ipython",
    "version": 2
   },
   "file_extension": ".py",
   "mimetype": "text/x-python",
   "name": "python",
   "nbconvert_exporter": "python",
   "pygments_lexer": "ipython2",
   "version": "2.7.12"
  }
 },
 "nbformat": 4,
 "nbformat_minor": 2
}
